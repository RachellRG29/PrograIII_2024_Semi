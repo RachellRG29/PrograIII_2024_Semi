{
  "nbformat": 4,
  "nbformat_minor": 0,
  "metadata": {
    "colab": {
      "provenance": [],
      "authorship_tag": "ABX9TyPD5ITyrhNwHFz68N3Ci+dJ",
      "include_colab_link": true
    },
    "kernelspec": {
      "name": "python3",
      "display_name": "Python 3"
    },
    "language_info": {
      "name": "python"
    }
  },
  "cells": [
    {
      "cell_type": "markdown",
      "metadata": {
        "id": "view-in-github",
        "colab_type": "text"
      },
      "source": [
        "<a href=\"https://colab.research.google.com/github/RachellRG29/PrograIII_2024_Semi/blob/main/fundamentos_de_python.ipynb\" target=\"_parent\"><img src=\"https://colab.research.google.com/assets/colab-badge.svg\" alt=\"Open In Colab\"/></a>"
      ]
    },
    {
      "cell_type": "markdown",
      "source": [
        "Pruebas Python"
      ],
      "metadata": {
        "id": "3r4XivPQ9h0L"
      }
    },
    {
      "cell_type": "code",
      "execution_count": null,
      "metadata": {
        "id": "1FNNA02gkFMn",
        "outputId": "cc9af1d0-408b-4850-843a-085ab0f68fe1",
        "colab": {
          "base_uri": "https://localhost:8080/"
        },
        "collapsed": true
      },
      "outputs": [
        {
          "output_type": "stream",
          "name": "stdout",
          "text": [
            "hola mundo\n",
            "<class 'str'>\n",
            "<class 'int'>\n",
            "Hola  Cindy Ramirez , iniciales: C R\n"
          ]
        }
      ],
      "source": [
        "print(\"hola mundo\")\n",
        "print(type(\"esto es texto\"))\n",
        "print(type(2))\n",
        "\n",
        "nombre = \"Cindy Ramirez\"\n",
        "print(\"Hola \",nombre, \", iniciales:\", nombre[0], nombre[6])"
      ]
    },
    {
      "cell_type": "markdown",
      "source": [
        "Ejercicios, crear un programa quen python que sume 2 numeros"
      ],
      "metadata": {
        "id": "E3OC6-An9fwK"
      }
    },
    {
      "cell_type": "code",
      "source": [
        "num1=5\n",
        "num2=9.5\n",
        "resp= num1+num2\n",
        "print(\"la suma es \",resp)\n"
      ],
      "metadata": {
        "colab": {
          "base_uri": "https://localhost:8080/"
        },
        "collapsed": true,
        "id": "gEYDSK4c9a7L",
        "outputId": "66f1f314-ddc3-447b-e864-35281e9ee05b"
      },
      "execution_count": null,
      "outputs": [
        {
          "output_type": "stream",
          "name": "stdout",
          "text": [
            "la suma es  14.5\n"
          ]
        }
      ]
    },
    {
      "cell_type": "markdown",
      "source": [
        "Ejercicios, crear un programa quen python que sume 2 numeros, introducidos por el usuario"
      ],
      "metadata": {
        "id": "XJnNpDy8_NNX"
      }
    },
    {
      "cell_type": "code",
      "source": [
        "print(\"Ingrese el numero 1: \")\n",
        "num1 = int(input())\n",
        "\n",
        "print(\"Ingrese el numero 2: \")\n",
        "num2 = float(input())\n",
        "resp = num1+num2\n",
        "print(\"La suma es: \",resp)"
      ],
      "metadata": {
        "colab": {
          "base_uri": "https://localhost:8080/"
        },
        "collapsed": true,
        "id": "N_9SGQ-x_RZO",
        "outputId": "d8331482-0251-4bfe-8d3c-4ed837ae8333"
      },
      "execution_count": null,
      "outputs": [
        {
          "output_type": "stream",
          "name": "stdout",
          "text": [
            "Ingrese el numero 1: \n",
            "2\n",
            "Ingrese el numero 2: \n",
            "9.129\n",
            "La suma es:  11.129\n"
          ]
        }
      ]
    },
    {
      "cell_type": "markdown",
      "source": [
        "Cadenas"
      ],
      "metadata": {
        "id": "MeoYzEUQB_g5"
      }
    },
    {
      "cell_type": "code",
      "source": [
        "#Tipos de datos\n",
        "nombre=\"Cindy Ramirez\"\n",
        "print(nombre[0:5], nombre[:5], nombre[-7:-3], nombre[5:len(nombre)])\n",
        "\n",
        "estado = False\n",
        "print(estado)\n",
        "\n",
        "num1=5\n",
        "num2=5.9\n",
        "\n",
        "print(type(nombre), type(num1), type(num2), type(estado), type(\"Texto\") )"
      ],
      "metadata": {
        "colab": {
          "base_uri": "https://localhost:8080/"
        },
        "id": "OccU4dj1CQNN",
        "outputId": "87aea007-f03a-4ab2-f7b4-75fbcd9026d6"
      },
      "execution_count": null,
      "outputs": [
        {
          "output_type": "stream",
          "name": "stdout",
          "text": [
            "Cindy Cindy Rami  Ramirez\n",
            "False\n",
            "<class 'str'> <class 'int'> <class 'float'> <class 'bool'> <class 'str'>\n"
          ]
        }
      ]
    },
    {
      "cell_type": "markdown",
      "source": [
        "Ejercicio: cree un programa en python que lea yb numero y determine si es par o impar"
      ],
      "metadata": {
        "id": "pA7ishYjEeh7"
      }
    },
    {
      "cell_type": "code",
      "source": [
        "num = int(input(\"Ingrese un numero:\"))\n",
        "if num % 2 ==0:\n",
        "  print(\"El numero es par \",num)\n",
        "else:\n",
        "  print(\"El numero es inpar \", num)"
      ],
      "metadata": {
        "colab": {
          "base_uri": "https://localhost:8080/"
        },
        "id": "JVr5IWYpEq8z",
        "outputId": "cbafe91f-ee80-40d5-d8b4-74b95a5ee4e6"
      },
      "execution_count": null,
      "outputs": [
        {
          "output_type": "stream",
          "name": "stdout",
          "text": [
            "Ingrese un numero:8\n",
            "El numero es par  8\n"
          ]
        }
      ]
    },
    {
      "cell_type": "code",
      "source": [
        "nombre = input(\"Nombre: \")\n",
        "print(nombre)\n",
        "print(nombre[-4])"
      ],
      "metadata": {
        "colab": {
          "base_uri": "https://localhost:8080/"
        },
        "id": "JFepPskLYe37",
        "outputId": "f47b47ae-de22-4a16-9cc3-6f11b3b68d9d"
      },
      "execution_count": 2,
      "outputs": [
        {
          "output_type": "stream",
          "name": "stdout",
          "text": [
            "Nombre: Cindy\n",
            "Cindy\n",
            "i\n"
          ]
        }
      ]
    },
    {
      "cell_type": "code",
      "source": [
        "def suma(num1, num2):\n",
        "  return num1+num2\n",
        "\n",
        "num1 = float(input(\"Num 1: \"))\n",
        "num2 = float(input(\"Num 2: \"))\n",
        "\n",
        "resp = suma(num1,num2)\n",
        "print(\"la suma es: \",resp)\n"
      ],
      "metadata": {
        "colab": {
          "base_uri": "https://localhost:8080/"
        },
        "collapsed": true,
        "id": "PWRFUGSXZVEr",
        "outputId": "158ad23c-f7be-4081-e8cd-db41f1071bdc"
      },
      "execution_count": 9,
      "outputs": [
        {
          "output_type": "stream",
          "name": "stdout",
          "text": [
            "Num 1: 1\n",
            "Num 2: 5.9\n",
            "la suma es:  6.9\n"
          ]
        }
      ]
    },
    {
      "cell_type": "markdown",
      "source": [
        "Ejercicio: Convertir grados celsius a farenheit, usando funciones de usuario."
      ],
      "metadata": {
        "id": "MQZiAlYQbPQq"
      }
    },
    {
      "cell_type": "code",
      "source": [
        "def convertir_cf(c):\n",
        "  return c*1.8 + 32\n",
        "  #return c*9/5 + 32\n",
        "\n",
        "c= float(input(\"Celcius: \"))\n",
        "print(\"Farenheit: \", convertir_cf(c))"
      ],
      "metadata": {
        "colab": {
          "base_uri": "https://localhost:8080/"
        },
        "id": "-z_JOEXwbXuh",
        "outputId": "23456875-da92-4f64-eae7-2b613d2f2490"
      },
      "execution_count": 11,
      "outputs": [
        {
          "output_type": "stream",
          "name": "stdout",
          "text": [
            "Celcius: 33\n",
            "Farenheit:  91.4\n"
          ]
        }
      ]
    },
    {
      "cell_type": "code",
      "source": [
        "#Determina si un numero es par o inpar\n",
        "def parImpar(num):\n",
        "  if(num % 2==0):\n",
        "    return \"par\"\n",
        "  return \"impar\"\n",
        "\n",
        "num= float(input(\"Num: \"))\n",
        "print(\"El numero \", num, \"es: \",parImpar(num))"
      ],
      "metadata": {
        "colab": {
          "base_uri": "https://localhost:8080/"
        },
        "id": "ynzKhvaxeuYo",
        "outputId": "c3420d15-b20f-4b8d-ca45-5cbece4149bd"
      },
      "execution_count": 15,
      "outputs": [
        {
          "output_type": "stream",
          "name": "stdout",
          "text": [
            "Num: 9\n",
            "El numero  9.0 es:  impar\n"
          ]
        }
      ]
    },
    {
      "cell_type": "code",
      "source": [
        "def sueldo(numHrs, valorxHrs):\n",
        "  sueldo = numHrs * valorxHrs * 30\n",
        "  if(numHrs>8):\n",
        "    sueldo = sueldo + (numHrs-8) * valorxHrs * 30\n",
        "  return sueldo\n",
        "\n",
        "\n",
        "numHrs = int(input(\"Horas trabajadas: \"))\n",
        "valorxHrs = float(input(\"Valor de horas: \"))\n",
        "\n",
        "print(\"Sueldo del trabajador:\", sueldo(numHrs, valorxHrs))"
      ],
      "metadata": {
        "colab": {
          "base_uri": "https://localhost:8080/"
        },
        "id": "howjgygshpdm",
        "outputId": "29d30270-5a0c-4363-e06c-dcc90200773a"
      },
      "execution_count": 21,
      "outputs": [
        {
          "output_type": "stream",
          "name": "stdout",
          "text": [
            "Horas trabajadas: 10\n",
            "Valor de horas: 1.5\n",
            "Sueldo del trabajador: 540.0\n"
          ]
        }
      ]
    },
    {
      "cell_type": "markdown",
      "source": [
        "Ejercicio calcular el sueldo de un trabajador"
      ],
      "metadata": {
        "id": "040cJEtOhpG3"
      }
    },
    {
      "cell_type": "markdown",
      "source": [
        "TAREA(Miercoles)\n",
        "\n",
        "\n",
        "1.   Convertir grados farenheit a celsius\n",
        "2.   Convertir [Farenheit y celsius] a kelvin\n",
        "\n"
      ],
      "metadata": {
        "id": "q1uqY5tHirh1"
      }
    },
    {
      "cell_type": "code",
      "source": [],
      "metadata": {
        "id": "_nJmwL9Nl3-s"
      },
      "execution_count": null,
      "outputs": []
    }
  ]
}