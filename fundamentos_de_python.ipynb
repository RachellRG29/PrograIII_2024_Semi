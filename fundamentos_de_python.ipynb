{
  "nbformat": 4,
  "nbformat_minor": 0,
  "metadata": {
    "colab": {
      "provenance": [],
      "authorship_tag": "ABX9TyMykOswUgBnwChbVJWUA76G",
      "include_colab_link": true
    },
    "kernelspec": {
      "name": "python3",
      "display_name": "Python 3"
    },
    "language_info": {
      "name": "python"
    }
  },
  "cells": [
    {
      "cell_type": "markdown",
      "metadata": {
        "id": "view-in-github",
        "colab_type": "text"
      },
      "source": [
        "<a href=\"https://colab.research.google.com/github/RachellRG29/PrograIII_2024_Semi/blob/main/fundamentos_de_python.ipynb\" target=\"_parent\"><img src=\"https://colab.research.google.com/assets/colab-badge.svg\" alt=\"Open In Colab\"/></a>"
      ]
    },
    {
      "cell_type": "markdown",
      "source": [
        "Pruebas Python"
      ],
      "metadata": {
        "id": "3r4XivPQ9h0L"
      }
    },
    {
      "cell_type": "code",
      "execution_count": 16,
      "metadata": {
        "id": "1FNNA02gkFMn",
        "outputId": "cc9af1d0-408b-4850-843a-085ab0f68fe1",
        "colab": {
          "base_uri": "https://localhost:8080/"
        },
        "collapsed": true
      },
      "outputs": [
        {
          "output_type": "stream",
          "name": "stdout",
          "text": [
            "hola mundo\n",
            "<class 'str'>\n",
            "<class 'int'>\n",
            "Hola  Cindy Ramirez , iniciales: C R\n"
          ]
        }
      ],
      "source": [
        "print(\"hola mundo\")\n",
        "print(type(\"esto es texto\"))\n",
        "print(type(2))\n",
        "\n",
        "nombre = \"Cindy Ramirez\"\n",
        "print(\"Hola \",nombre, \", iniciales:\", nombre[0], nombre[6])"
      ]
    },
    {
      "cell_type": "markdown",
      "source": [
        "Ejercicios, crear un programa quen python que sume 2 numeros"
      ],
      "metadata": {
        "id": "E3OC6-An9fwK"
      }
    },
    {
      "cell_type": "code",
      "source": [
        "num1=5\n",
        "num2=9.5\n",
        "resp= num1+num2\n",
        "print(\"la suma es \",resp)\n"
      ],
      "metadata": {
        "colab": {
          "base_uri": "https://localhost:8080/"
        },
        "collapsed": true,
        "id": "gEYDSK4c9a7L",
        "outputId": "66f1f314-ddc3-447b-e864-35281e9ee05b"
      },
      "execution_count": 17,
      "outputs": [
        {
          "output_type": "stream",
          "name": "stdout",
          "text": [
            "la suma es  14.5\n"
          ]
        }
      ]
    },
    {
      "cell_type": "markdown",
      "source": [
        "Ejercicios, crear un programa quen python que sume 2 numeros, introducidos por el usuario"
      ],
      "metadata": {
        "id": "XJnNpDy8_NNX"
      }
    },
    {
      "cell_type": "code",
      "source": [
        "print(\"Ingrese el numero 1: \")\n",
        "num1 = int(input())\n",
        "\n",
        "print(\"Ingrese el numero 2: \")\n",
        "num2 = float(input())\n",
        "resp = num1+num2\n",
        "print(\"La suma es: \",resp)"
      ],
      "metadata": {
        "colab": {
          "base_uri": "https://localhost:8080/"
        },
        "collapsed": true,
        "id": "N_9SGQ-x_RZO",
        "outputId": "d8331482-0251-4bfe-8d3c-4ed837ae8333"
      },
      "execution_count": 24,
      "outputs": [
        {
          "output_type": "stream",
          "name": "stdout",
          "text": [
            "Ingrese el numero 1: \n",
            "2\n",
            "Ingrese el numero 2: \n",
            "9.129\n",
            "La suma es:  11.129\n"
          ]
        }
      ]
    },
    {
      "cell_type": "markdown",
      "source": [
        "Cadenas"
      ],
      "metadata": {
        "id": "MeoYzEUQB_g5"
      }
    },
    {
      "cell_type": "code",
      "source": [
        "#Tipos de datos\n",
        "nombre=\"Cindy Ramirez\"\n",
        "print(nombre[0:5], nombre[:5], nombre[-7:-3], nombre[5:len(nombre)])\n",
        "\n",
        "estado = False\n",
        "print(estado)\n",
        "\n",
        "num1=5\n",
        "num2=5.9\n",
        "\n",
        "print(type(nombre), type(num1), type(num2), type(estado), type(\"Texto\") )"
      ],
      "metadata": {
        "colab": {
          "base_uri": "https://localhost:8080/"
        },
        "id": "OccU4dj1CQNN",
        "outputId": "87aea007-f03a-4ab2-f7b4-75fbcd9026d6"
      },
      "execution_count": 36,
      "outputs": [
        {
          "output_type": "stream",
          "name": "stdout",
          "text": [
            "Cindy Cindy Rami  Ramirez\n",
            "False\n",
            "<class 'str'> <class 'int'> <class 'float'> <class 'bool'> <class 'str'>\n"
          ]
        }
      ]
    },
    {
      "cell_type": "markdown",
      "source": [
        "Ejercicio: cree un programa en python que lea yb numero y determine si es par o impar"
      ],
      "metadata": {
        "id": "pA7ishYjEeh7"
      }
    },
    {
      "cell_type": "code",
      "source": [
        "num = int(input(\"Ingrese un numero:\"))\n",
        "if num % 2 ==0:\n",
        "  print(\"El numero es par \",num)\n",
        "else:\n",
        "    print(\"El numero es inpar \", num)"
      ],
      "metadata": {
        "colab": {
          "base_uri": "https://localhost:8080/"
        },
        "id": "JVr5IWYpEq8z",
        "outputId": "2290fcac-28be-42a4-c8ec-62146888b1c9"
      },
      "execution_count": 39,
      "outputs": [
        {
          "output_type": "stream",
          "name": "stdout",
          "text": [
            "Ingrese un numero:3\n",
            "El numero es inpar  3\n"
          ]
        }
      ]
    }
  ]
}