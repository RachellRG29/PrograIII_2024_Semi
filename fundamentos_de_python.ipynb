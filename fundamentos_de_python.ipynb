{
  "cells": [
    {
      "cell_type": "markdown",
      "metadata": {
        "colab_type": "text",
        "id": "view-in-github"
      },
      "source": [
        "<a href=\"https://colab.research.google.com/github/RachellRG29/PrograIII_2024_Semi/blob/main/fundamentos_de_python.ipynb\" target=\"_parent\"><img src=\"https://colab.research.google.com/assets/colab-badge.svg\" alt=\"Open In Colab\"/></a>"
      ]
    },
    {
      "cell_type": "markdown",
      "metadata": {
        "id": "3r4XivPQ9h0L"
      },
      "source": [
        "Pruebas Python"
      ]
    },
    {
      "cell_type": "code",
      "execution_count": null,
      "metadata": {
        "colab": {
          "base_uri": "https://localhost:8080/"
        },
        "collapsed": true,
        "id": "1FNNA02gkFMn",
        "outputId": "cc9af1d0-408b-4850-843a-085ab0f68fe1"
      },
      "outputs": [
        {
          "name": "stdout",
          "output_type": "stream",
          "text": [
            "hola mundo\n",
            "<class 'str'>\n",
            "<class 'int'>\n",
            "Hola  Cindy Ramirez , iniciales: C R\n"
          ]
        }
      ],
      "source": [
        "print(\"hola mundo\")\n",
        "print(type(\"esto es texto\"))\n",
        "print(type(2))\n",
        "\n",
        "nombre = \"Cindy Ramirez\"\n",
        "print(\"Hola \",nombre, \", iniciales:\", nombre[0], nombre[6])"
      ]
    },
    {
      "cell_type": "markdown",
      "metadata": {
        "id": "E3OC6-An9fwK"
      },
      "source": [
        "Ejercicios, crear un programa quen python que sume 2 numeros"
      ]
    },
    {
      "cell_type": "code",
      "execution_count": null,
      "metadata": {
        "colab": {
          "base_uri": "https://localhost:8080/"
        },
        "collapsed": true,
        "id": "gEYDSK4c9a7L",
        "outputId": "66f1f314-ddc3-447b-e864-35281e9ee05b"
      },
      "outputs": [
        {
          "name": "stdout",
          "output_type": "stream",
          "text": [
            "la suma es  14.5\n"
          ]
        }
      ],
      "source": [
        "num1=5\n",
        "num2=9.5\n",
        "resp= num1+num2\n",
        "print(\"la suma es \",resp)\n"
      ]
    },
    {
      "cell_type": "markdown",
      "metadata": {
        "id": "XJnNpDy8_NNX"
      },
      "source": [
        "Ejercicios, crear un programa quen python que sume 2 numeros, introducidos por el usuario"
      ]
    },
    {
      "cell_type": "code",
      "execution_count": null,
      "metadata": {
        "colab": {
          "base_uri": "https://localhost:8080/"
        },
        "collapsed": true,
        "id": "N_9SGQ-x_RZO",
        "outputId": "d8331482-0251-4bfe-8d3c-4ed837ae8333"
      },
      "outputs": [
        {
          "name": "stdout",
          "output_type": "stream",
          "text": [
            "Ingrese el numero 1: \n",
            "2\n",
            "Ingrese el numero 2: \n",
            "9.129\n",
            "La suma es:  11.129\n"
          ]
        }
      ],
      "source": [
        "print(\"Ingrese el numero 1: \")\n",
        "num1 = int(input())\n",
        "\n",
        "print(\"Ingrese el numero 2: \")\n",
        "num2 = float(input())\n",
        "resp = num1+num2\n",
        "print(\"La suma es: \",resp)"
      ]
    },
    {
      "cell_type": "markdown",
      "metadata": {
        "id": "MeoYzEUQB_g5"
      },
      "source": [
        "Cadenas"
      ]
    },
    {
      "cell_type": "code",
      "execution_count": null,
      "metadata": {
        "colab": {
          "base_uri": "https://localhost:8080/"
        },
        "id": "OccU4dj1CQNN",
        "outputId": "87aea007-f03a-4ab2-f7b4-75fbcd9026d6"
      },
      "outputs": [
        {
          "name": "stdout",
          "output_type": "stream",
          "text": [
            "Cindy Cindy Rami  Ramirez\n",
            "False\n",
            "<class 'str'> <class 'int'> <class 'float'> <class 'bool'> <class 'str'>\n"
          ]
        }
      ],
      "source": [
        "#Tipos de datos\n",
        "nombre=\"Cindy Ramirez\"\n",
        "print(nombre[0:5], nombre[:5], nombre[-7:-3], nombre[5:len(nombre)])\n",
        "\n",
        "estado = False\n",
        "print(estado)\n",
        "\n",
        "num1=5\n",
        "num2=5.9\n",
        "\n",
        "print(type(nombre), type(num1), type(num2), type(estado), type(\"Texto\") )"
      ]
    },
    {
      "cell_type": "markdown",
      "metadata": {
        "id": "pA7ishYjEeh7"
      },
      "source": [
        "Ejercicio: cree un programa en python que lea yb numero y determine si es par o impar"
      ]
    },
    {
      "cell_type": "code",
      "execution_count": null,
      "metadata": {
        "colab": {
          "base_uri": "https://localhost:8080/"
        },
        "id": "JVr5IWYpEq8z",
        "outputId": "cbafe91f-ee80-40d5-d8b4-74b95a5ee4e6"
      },
      "outputs": [
        {
          "name": "stdout",
          "output_type": "stream",
          "text": [
            "Ingrese un numero:8\n",
            "El numero es par  8\n"
          ]
        }
      ],
      "source": [
        "num = int(input(\"Ingrese un numero:\"))\n",
        "if num % 2 ==0:\n",
        "  print(\"El numero es par \",num)\n",
        "else:\n",
        "  print(\"El numero es inpar \", num)"
      ]
    },
    {
      "cell_type": "code",
      "execution_count": null,
      "metadata": {
        "colab": {
          "base_uri": "https://localhost:8080/"
        },
        "id": "JFepPskLYe37",
        "outputId": "f47b47ae-de22-4a16-9cc3-6f11b3b68d9d"
      },
      "outputs": [
        {
          "name": "stdout",
          "output_type": "stream",
          "text": [
            "Nombre: Cindy\n",
            "Cindy\n",
            "i\n"
          ]
        }
      ],
      "source": [
        "nombre = input(\"Nombre: \")\n",
        "print(nombre)\n",
        "print(nombre[-4])"
      ]
    },
    {
      "cell_type": "code",
      "execution_count": null,
      "metadata": {
        "colab": {
          "base_uri": "https://localhost:8080/"
        },
        "collapsed": true,
        "id": "PWRFUGSXZVEr",
        "outputId": "158ad23c-f7be-4081-e8cd-db41f1071bdc"
      },
      "outputs": [
        {
          "name": "stdout",
          "output_type": "stream",
          "text": [
            "Num 1: 1\n",
            "Num 2: 5.9\n",
            "la suma es:  6.9\n"
          ]
        }
      ],
      "source": [
        "def suma(num1, num2):\n",
        "  return num1+num2\n",
        "\n",
        "num1 = float(input(\"Num 1: \"))\n",
        "num2 = float(input(\"Num 2: \"))\n",
        "\n",
        "resp = suma(num1,num2)\n",
        "print(\"la suma es: \",resp)\n"
      ]
    },
    {
      "cell_type": "markdown",
      "metadata": {
        "id": "MQZiAlYQbPQq"
      },
      "source": [
        "Ejercicio: Convertir grados celsius a farenheit, usando funciones de usuario."
      ]
    },
    {
      "cell_type": "code",
      "execution_count": null,
      "metadata": {
        "colab": {
          "base_uri": "https://localhost:8080/"
        },
        "id": "-z_JOEXwbXuh",
        "outputId": "94a228c5-6362-46b5-add0-8256b2287be5"
      },
      "outputs": [
        {
          "name": "stdout",
          "output_type": "stream",
          "text": [
            "Celcius: 20\n",
            "Farenheit:  68.0\n"
          ]
        }
      ],
      "source": [
        "def convertir_cf(c):\n",
        "  return c*1.8 + 32\n",
        "  #return c*9/5 + 32\n",
        "\n",
        "c= float(input(\"Celcius: \"))\n",
        "print(\"Farenheit: \", convertir_cf(c))"
      ]
    },
    {
      "cell_type": "code",
      "execution_count": null,
      "metadata": {
        "colab": {
          "base_uri": "https://localhost:8080/"
        },
        "id": "ynzKhvaxeuYo",
        "outputId": "c3420d15-b20f-4b8d-ca45-5cbece4149bd"
      },
      "outputs": [
        {
          "name": "stdout",
          "output_type": "stream",
          "text": [
            "Num: 9\n",
            "El numero  9.0 es:  impar\n"
          ]
        }
      ],
      "source": [
        "#Determina si un numero es par o inpar\n",
        "def parImpar(num):\n",
        "  if(num % 2==0):\n",
        "    return \"par\"\n",
        "  return \"impar\"\n",
        "\n",
        "num= float(input(\"Num: \"))\n",
        "print(\"El numero \", num, \"es: \",parImpar(num))"
      ]
    },
    {
      "cell_type": "code",
      "execution_count": null,
      "metadata": {
        "colab": {
          "base_uri": "https://localhost:8080/"
        },
        "id": "howjgygshpdm",
        "outputId": "29d30270-5a0c-4363-e06c-dcc90200773a"
      },
      "outputs": [
        {
          "name": "stdout",
          "output_type": "stream",
          "text": [
            "Horas trabajadas: 10\n",
            "Valor de horas: 1.5\n",
            "Sueldo del trabajador: 540.0\n"
          ]
        }
      ],
      "source": [
        "def sueldo(numHrs, valorxHrs):\n",
        "  sueldo = numHrs * valorxHrs * 30\n",
        "  if(numHrs>8):\n",
        "    sueldo = sueldo + (numHrs-8) * valorxHrs * 30\n",
        "  return sueldo\n",
        "\n",
        "\n",
        "numHrs = int(input(\"Horas trabajadas: \"))\n",
        "valorxHrs = float(input(\"Valor de horas: \"))\n",
        "\n",
        "print(\"Sueldo del trabajador:\", sueldo(numHrs, valorxHrs))"
      ]
    },
    {
      "cell_type": "markdown",
      "metadata": {
        "id": "040cJEtOhpG3"
      },
      "source": [
        "Ejercicio calcular el sueldo de un trabajador"
      ]
    },
    {
      "cell_type": "markdown",
      "metadata": {
        "id": "q1uqY5tHirh1"
      },
      "source": [
        "TAREA(Miercoles)\n",
        "\n",
        "\n",
        "1.   Convertir grados farenheit a celsius\n",
        "2.   Convertir [Farenheit y celsius] a kelvin\n",
        "\n"
      ]
    },
    {
      "cell_type": "markdown",
      "metadata": {
        "id": "4Zw7kIJFchvM"
      },
      "source": [
        "Convertir grados farenheit a celsius"
      ]
    },
    {
      "cell_type": "code",
      "execution_count": null,
      "metadata": {
        "colab": {
          "base_uri": "https://localhost:8080/"
        },
        "id": "_nJmwL9Nl3-s",
        "outputId": "4b51b354-25cf-47c6-f694-03598b3dd5f5"
      },
      "outputs": [
        {
          "name": "stdout",
          "output_type": "stream",
          "text": [
            "Farenheit: 90\n",
            "Grados Celcius:  32.22222222222222 °c\n"
          ]
        }
      ],
      "source": [
        "def convertir_fc(f): #farenheit a celcius\n",
        "  return (f-32) * 5/9\n",
        "\n",
        "f = float(input(\"Farenheit: \"))\n",
        "print(\"Grados Celcius: \", convertir_fc(f),\"°c\")\n"
      ]
    },
    {
      "cell_type": "markdown",
      "metadata": {
        "id": "4tJ2853wex4z"
      },
      "source": [
        "Convertir [Farenheit y celsius] a kelvin"
      ]
    },
    {
      "cell_type": "code",
      "execution_count": null,
      "metadata": {
        "colab": {
          "base_uri": "https://localhost:8080/"
        },
        "id": "5FZsub3je0VS",
        "outputId": "695667f7-4f3a-4e62-f6db-a6bf6f0496a9"
      },
      "outputs": [
        {
          "name": "stdout",
          "output_type": "stream",
          "text": [
            "Farenheit: 40\n",
            "Grados Kelvin convertidos:  277.59444444444443 °k\n",
            "\n",
            "Celcius: 44\n",
            "Grados Kelvin:  317.15 °k\n"
          ]
        }
      ],
      "source": [
        "def convertir_fk(f): #farenheit a kelvin\n",
        "  return (f + 459.67)/1.8\n",
        "\n",
        "f = float(input(\"Farenheit: \"))\n",
        "print(\"Grados Kelvin convertidos: \", convertir_fk(f),\"°k\")\n",
        "print(\"\")\n",
        "\n",
        "def convertir_ck(c): #celcius a kelvin\n",
        "  return (c+273.15)\n",
        "\n",
        "c = float(input(\"Celcius: \"))\n",
        "print(\"Grados Kelvin: \", convertir_ck(c),\"°k\")"
      ]
    },
    {
      "cell_type": "markdown",
      "metadata": {
        "id": "V0PBq_1p4LNH"
      },
      "source": [
        "Clase 24-07-2024\n",
        "Ejercicio: elevar un nmero al cuadrado\n"
      ]
    },
    {
      "cell_type": "code",
      "execution_count": null,
      "metadata": {
        "colab": {
          "base_uri": "https://localhost:8080/"
        },
        "id": "eoYudy7C6Ke0",
        "outputId": "5e83f636-1a73-496e-b1ac-a2df18d20acc"
      },
      "outputs": [
        {
          "name": "stdout",
          "output_type": "stream",
          "text": [
            "Numero 3\n",
            "Elevado:  27\n"
          ]
        }
      ],
      "source": [
        "def elevarCuadrado(base, exponente):\n",
        "  return base**exponente\n",
        "\n",
        "#exponente=int(input(\"Exponente \"))\n",
        "\n",
        "base = int(input(\"Numero \"))\n",
        "print(\"Elevado: \",elevarCuadrado(base,3))"
      ]
    },
    {
      "cell_type": "markdown",
      "metadata": {
        "id": "Gq38HluG8XJY"
      },
      "source": [
        "Usando funciones lambda"
      ]
    },
    {
      "cell_type": "code",
      "execution_count": null,
      "metadata": {
        "colab": {
          "base_uri": "https://localhost:8080/"
        },
        "id": "HLDf1DKW8Z_A",
        "outputId": "6793f5a8-5f0f-489f-d806-efb9e64f2e66"
      },
      "outputs": [
        {
          "name": "stdout",
          "output_type": "stream",
          "text": [
            "Num: 3\n",
            "Cuadrado:  9\n"
          ]
        }
      ],
      "source": [
        "elevarCuadradoLambda = lambda base, exponente : base**exponente\n",
        "valor = int(input(\"Num: \"))\n",
        "print(\"Cuadrado: \", elevarCuadradoLambda(valor,2))"
      ]
    },
    {
      "cell_type": "markdown",
      "metadata": {
        "id": "FufhoWqP9oZe"
      },
      "source": [
        "Funcion lambda, con series , listas , matrices"
      ]
    },
    {
      "cell_type": "code",
      "execution_count": null,
      "metadata": {
        "colab": {
          "base_uri": "https://localhost:8080/"
        },
        "id": "-qKcz3GV_kEb",
        "outputId": "ca37bfa3-0d48-454a-86cb-8d4f92f78f67"
      },
      "outputs": [
        {
          "name": "stdout",
          "output_type": "stream",
          "text": [
            "Valores al cuadrado: [25, 16, 9, 4, 36, 49]\n"
          ]
        }
      ],
      "source": [
        "serie = [5,4,3,2,6,7]\n",
        "resp = map(lambda x: x**2, serie)\n",
        "print(\"Valores al cuadrado:\",(list(resp)))\n",
        "\n",
        "#resp2= map(elevarCuadrado, serie)\n",
        "#print(list(resp2))"
      ]
    },
    {
      "cell_type": "markdown",
      "metadata": {
        "id": "3kOdgKSFC-bW"
      },
      "source": [
        "Ejercicio: Obtener la raiz cuadrada de una serie de numeros fijos"
      ]
    },
    {
      "cell_type": "code",
      "execution_count": null,
      "metadata": {
        "colab": {
          "base_uri": "https://localhost:8080/"
        },
        "id": "t_DpF2axA9bp",
        "outputId": "ab4d8159-1227-4fb8-b8dc-45d62f8c2ae1"
      },
      "outputs": [
        {
          "name": "stdout",
          "output_type": "stream",
          "text": [
            "[4.0, 3.0, 9.0, 12.0, 2.449489742783178, 2.6457513110645907]\n"
          ]
        }
      ],
      "source": [
        "#from math import sqrt\n",
        "\n",
        "#series = [5,4,3,2,6,7]\n",
        "series = [16,9, 81,144,6,7]\n",
        "resps = map(lambda x:x** 0.5, series)\n",
        "\n",
        "print(list(resps))"
      ]
    },
    {
      "cell_type": "markdown",
      "metadata": {
        "id": "LdWalN1zajeX"
      },
      "source": [
        "CLASE VIRTUAL 29-07-24_ LAMBDA"
      ]
    },
    {
      "cell_type": "markdown",
      "metadata": {
        "id": "Um8j7j5yb2iH"
      },
      "source": [
        "EJERCICIO CON MAP"
      ]
    },
    {
      "cell_type": "code",
      "execution_count": null,
      "metadata": {
        "colab": {
          "base_uri": "https://localhost:8080/"
        },
        "id": "mmA0AnylanmX",
        "outputId": "db179564-2555-44b4-ebc9-25bdca6274ee"
      },
      "outputs": [
        {
          "name": "stdout",
          "output_type": "stream",
          "text": [
            "[2, 4, 6, 8, 10, 12, 14, 16, 18]\n"
          ]
        }
      ],
      "source": [
        "numeros = [1,2,3,4,5,6,7,8,9]\n",
        "print(list(map(lambda n: n*2, numeros)))"
      ]
    },
    {
      "cell_type": "code",
      "execution_count": null,
      "metadata": {
        "colab": {
          "base_uri": "https://localhost:8080/"
        },
        "id": "tFtGLw73b4l2",
        "outputId": "8112dfd8-f41c-4de8-a98b-9c27ff031020"
      },
      "outputs": [
        {
          "name": "stdout",
          "output_type": "stream",
          "text": [
            "[3, 6, 9, 12, 15, 18, 21, 24, 27, 30]\n"
          ]
        }
      ],
      "source": [
        "numeros = [1,2,3,4,5,6,7,8,9,10]\n",
        "print(list(map(lambda n: n*3, numeros)))"
      ]
    },
    {
      "cell_type": "code",
      "execution_count": null,
      "metadata": {
        "colab": {
          "base_uri": "https://localhost:8080/"
        },
        "id": "dYJDzZdicL-3",
        "outputId": "609ac243-12dc-4361-aa3d-0a7ecfcefc08"
      },
      "outputs": [
        {
          "name": "stdout",
          "output_type": "stream",
          "text": [
            "Tabla: 6\n",
            "[6, 12, 18, 24, 30, 36, 42, 48, 54, 60]\n"
          ]
        }
      ],
      "source": [
        "numeros = [1,2,3,4,5,6,7,8,9,10]\n",
        "ntabla = int(input(\"Tabla: \"))\n",
        "print(list(map(lambda n: n*ntabla, numeros)))"
      ]
    },
    {
      "cell_type": "markdown",
      "metadata": {
        "id": "FT_qI9XJdMge"
      },
      "source": [
        "*FILTER"
      ]
    },
    {
      "cell_type": "code",
      "execution_count": null,
      "metadata": {
        "colab": {
          "base_uri": "https://localhost:8080/"
        },
        "id": "9KM9j4MvdNs2",
        "outputId": "6a172f8b-c10f-48c7-a8c8-414c593a3318"
      },
      "outputs": [
        {
          "name": "stdout",
          "output_type": "stream",
          "text": [
            "[2, 4, 6, 8, 10]\n"
          ]
        }
      ],
      "source": [
        "#pares\n",
        "numeros = [1,2,3,4,5,6,7,8,9,10]\n",
        "print(list(filter(lambda n: n%2==0, numeros)))"
      ]
    },
    {
      "cell_type": "code",
      "execution_count": null,
      "metadata": {
        "colab": {
          "base_uri": "https://localhost:8080/"
        },
        "id": "Jm1h-u-fdapp",
        "outputId": "0a0eba2b-32f3-4fd7-bea6-5fb9d349e51d"
      },
      "outputs": [
        {
          "name": "stdout",
          "output_type": "stream",
          "text": [
            "[1, 3, 5, 7, 9]\n"
          ]
        }
      ],
      "source": [
        "#inpares\n",
        "numeros = [1,2,3,4,5,6,7,8,9,10]\n",
        "print(list(filter(lambda n: n%2!=0, numeros)))"
      ]
    },
    {
      "cell_type": "markdown",
      "metadata": {
        "id": "HNQb1iuXd0Sl"
      },
      "source": []
    },
    {
      "cell_type": "code",
      "execution_count": null,
      "metadata": {
        "colab": {
          "base_uri": "https://localhost:8080/"
        },
        "id": "dGgRWEpbd0lt",
        "outputId": "865d08b5-9bb7-4e7f-da3f-799fed8cf992"
      },
      "outputs": [
        {
          "name": "stdout",
          "output_type": "stream",
          "text": [
            "Aprobados:  [8, 9, 10, 6, 9, 10, 9]\n"
          ]
        }
      ],
      "source": [
        "notas = [8,2,3,9,10,1,3,6,9,0,1,10,9]\n",
        "print(\"Aprobados: \", list(filter(lambda n: n>=6, notas)))"
      ]
    },
    {
      "cell_type": "code",
      "execution_count": null,
      "metadata": {
        "colab": {
          "base_uri": "https://localhost:8080/"
        },
        "id": "G_RUyB6LeIdf",
        "outputId": "312755bc-96fb-45c8-ddbc-70544f875396"
      },
      "outputs": [
        {
          "name": "stdout",
          "output_type": "stream",
          "text": [
            "Reprobados:  [2, 3, 1, 3, 0, 1]\n"
          ]
        }
      ],
      "source": [
        "notas = [8,2,3,9,10,1,3,6,9,0,1,10,9]\n",
        "print(\"Reprobados: \", list(filter(lambda n: n<6, notas)))"
      ]
    },
    {
      "cell_type": "markdown",
      "metadata": {
        "id": "4u4BnDzfePn2"
      },
      "source": [
        "*REDUCE"
      ]
    },
    {
      "cell_type": "code",
      "execution_count": null,
      "metadata": {
        "colab": {
          "base_uri": "https://localhost:8080/"
        },
        "id": "B3_K6Fb5eRan",
        "outputId": "e96579a8-821c-435a-e3ca-6c8ac74b9ac6"
      },
      "outputs": [
        {
          "name": "stdout",
          "output_type": "stream",
          "text": [
            "Suma:  34\n"
          ]
        }
      ],
      "source": [
        "from functools import reduce\n",
        "numeros = [7,8,9,10]\n",
        "print(\"Suma: \", reduce(lambda n, acum: n+acum, numeros))"
      ]
    },
    {
      "cell_type": "markdown",
      "metadata": {
        "id": "VOsKPkc3g3aM"
      },
      "source": [
        "TUPLAS"
      ]
    },
    {
      "cell_type": "code",
      "execution_count": null,
      "metadata": {
        "colab": {
          "base_uri": "https://localhost:8080/"
        },
        "id": "Qoqn4iXUgTd0",
        "outputId": "685a43c5-a334-4865-9b91-0bab3b7b36f8"
      },
      "outputs": [
        {
          "name": "stdout",
          "output_type": "stream",
          "text": [
            "Tupla:  (5, 8, 7, 9, 5, 4, 7) ,Primer:  5 ,Ultimo:  7 , Rango: 2-6  (7, 9, 5, 4)\n",
            "2\n"
          ]
        }
      ],
      "source": [
        "numeros = (5,8,7,9,5,4,7)\n",
        "print(\"Tupla: \", numeros, \",Primer: \", numeros[0], \",Ultimo: \", numeros[-1], \", Rango: 2-6 \", numeros[2:6])\n",
        "print(numeros.count(5))"
      ]
    },
    {
      "cell_type": "code",
      "execution_count": null,
      "metadata": {
        "id": "esewmEQNqnE4"
      },
      "outputs": [],
      "source": [
        "semana = (\"domingo\", \"lunes\", \"martes\", \"miercoles\", \"jueves\", \"viernes\", \"sabado\")\n",
        "print(\"Primer dia: \",semana[0], \"; Cuantas veces repite domingo: \",semana.count(\"domingo\"), \"; dias de la seman: \", len(semana))\n"
      ]
    },
    {
      "cell_type": "code",
      "execution_count": null,
      "metadata": {
        "colab": {
          "base_uri": "https://localhost:8080/"
        },
        "id": "18n1uilbqn04",
        "outputId": "70c94538-d936-4f59-c718-ddab305be79f"
      },
      "outputs": [
        {
          "name": "stdout",
          "output_type": "stream",
          "text": [
            "Fecha:  lunes 29  de  agosto  del  2024\n"
          ]
        }
      ],
      "source": [
        "#day datetime\n",
        "import datetime\n",
        "hoy = datetime.date.today()\n",
        "dia = hoy.day\n",
        "mes = hoy.month\n",
        "year = hoy.year\n",
        "dia_semana = hoy.isoweekday()\n",
        "\n",
        "semana = (\"domingo\",\"lunes\",\"martes\",\"miercoles\",\"jueves\", \"viernes\", \"sabado\")\n",
        "meses = (\"enero\", \"febrero\", \"marzo\", \"abril\", \"mayo\", \"junio\", \"julio\", \"agosto\", \"septiembre\", \"octubre\", \"noviembre\", \"diciembre\")\n",
        "\n",
        "print(\"Fecha: \", semana[dia_semana], dia, \" de \", meses[mes], \" del \", year)"
      ]
    },
    {
      "cell_type": "code",
      "execution_count": null,
      "metadata": {
        "colab": {
          "base_uri": "https://localhost:8080/"
        },
        "id": "4fASee2AqtoP",
        "outputId": "b5f8db13-f646-4945-d64c-be57a613372f"
      },
      "outputs": [
        {
          "name": "stdout",
          "output_type": "stream",
          "text": [
            "('Luis', 'Juan')\n",
            "['Pedro', 'Juan']\n"
          ]
        },
        {
          "data": {
            "text/plain": [
              "['Pedro', 'Juan']"
            ]
          },
          "execution_count": 16,
          "metadata": {},
          "output_type": "execute_result"
        }
      ],
      "source": [
        "#\n",
        "tuplas = (\"Luis\",\"Juan\")\n",
        "#tuplas[0] = \"Pedro\" #Las tuplas son inmutables, no puede cambiar su valor.\n",
        "print(tuplas)\n",
        "\n",
        "listas = [\"Luis\",\"Juan\"]\n",
        "listas[0] = \"Pedro\" #Las listas son mutables, si puede cambiar su valor.\n",
        "print(listas)\n",
        "\n",
        "('Luis', 'Juan')\n",
        "['Pedro', 'Juan']"
      ]
    },
    {
      "cell_type": "code",
      "execution_count": null,
      "metadata": {
        "id": "LkkNrAVsqyon"
      },
      "outputs": [],
      "source": [
        "#LISTA\n",
        "listas = [5,8,7,9,\"Luis\", \"Jonathan\", \"Ramon\"]\n",
        "print(listas, listas[-1])"
      ]
    },
    {
      "cell_type": "code",
      "execution_count": null,
      "metadata": {
        "colab": {
          "base_uri": "https://localhost:8080/"
        },
        "id": "9CTOQk7Mq21P",
        "outputId": "1da952a8-8298-4157-ef6a-3ca5d0521ffe"
      },
      "outputs": [
        {
          "data": {
            "text/plain": [
              "7.5"
            ]
          },
          "execution_count": 17,
          "metadata": {},
          "output_type": "execute_result"
        }
      ],
      "source": [
        "def obtenerNota(nota, eval):\n",
        "  return eval[1]*0.3 + nota\n",
        "\n",
        "matriz = [ [\"Lab1\", 8],[\"Lab2\", 9], [\"Parcial\", 8] ] #8*0.3=2.4 + 9*0.3=2.7 + 8*0.3=2.4\n",
        "reduce(obtenerNota, matriz, 0)"
      ]
    },
    {
      "cell_type": "code",
      "execution_count": null,
      "metadata": {
        "id": "lsu-ScelBE0W"
      },
      "outputs": [],
      "source": [
        "#\n",
        "numeros = []\n",
        "for i in range(1,10):\n",
        "  numeros.append(int(input(\"num\" +str(i)+\":\")))\n",
        "num = int(input(\"num a buscar\"))\n",
        "print(\"Serie: \", numeros, \"el número\", num,\"se repite\" , numeros.count(num))\n",
        "\n",
        "nums= numeros.reverse()\n",
        "print(nums)"
      ]
    },
    {
      "cell_type": "code",
      "execution_count": null,
      "metadata": {
        "id": "MVpf3XmWBHC8"
      },
      "outputs": [],
      "source": [
        "\n",
        "numeros = [1,5,2,6,2,1,4]\n",
        "numeros.sort()\n",
        "numeros.reverse()\n",
        "print(numeros)\n"
      ]
    },
    {
      "cell_type": "markdown",
      "metadata": {
        "id": "efKeUtAhCriy"
      },
      "source": [
        "DICCIONARIOS JSON"
      ]
    },
    {
      "cell_type": "code",
      "execution_count": null,
      "metadata": {
        "id": "-zYNCfEpCoWV"
      },
      "outputs": [],
      "source": [
        "\n",
        "datos = {\n",
        "    \"codigo\":\"USIS018804\",\n",
        "    \"nombre\":\"Luis Hernandez\",\n",
        "    \"materias\":[\n",
        "        {\"codigo\":\"611\",\"nombre\":\"Programacion III\",\"notas\":{\n",
        "            \"c1\":{\"lab1\":8,\"lab2\":9,\"parcial\":10},\n",
        "            \"c2\":{\"lab1\":10,\"lab2\":9,\"parcial\":10},\n",
        "            \"c3\":{\"lab1\":4,\"lab2\":5,\"parcial\":8}\n",
        "            }\n",
        "         },\n",
        "        {\"codigo\":\"612\",\"nombre\":\"Base de Datos\"}\n",
        "    ]\n",
        "}\n",
        "print(datos[\"nombre\"], datos[\"materias\"][0][\"nombre\"], datos[\"materias\"][0][\"notas\"][\"c1\"])"
      ]
    },
    {
      "cell_type": "markdown",
      "metadata": {
        "id": "CSEZiR-XBvt-"
      },
      "source": [
        "Clase presencial/ 14-08-24\n",
        "Estructura de control"
      ]
    },
    {
      "cell_type": "code",
      "execution_count": null,
      "metadata": {
        "colab": {
          "base_uri": "https://localhost:8080/"
        },
        "id": "9EjZ5jCbB5Er",
        "outputId": "38f45325-a70e-4658-91ab-1e8b70cdcbfa"
      },
      "outputs": [
        {
          "name": "stdout",
          "output_type": "stream",
          "text": [
            "Digite su edad12\n"
          ]
        }
      ],
      "source": [
        "#solicitar al usuario la edad y determinar su clasificacion\n",
        "edad = int(input(\"Digite su edad: \"))\n",
        "\n",
        "if edad> 17:\n",
        "  print(\"Bienvenido al mundo de las responsabilidades\")"
      ]
    },
    {
      "cell_type": "code",
      "execution_count": null,
      "metadata": {
        "colab": {
          "base_uri": "https://localhost:8080/"
        },
        "id": "h8m8ZedJHb1v",
        "outputId": "6f26d9ce-fa55-40df-8b80-514f944d9197"
      },
      "outputs": [
        {
          "name": "stdout",
          "output_type": "stream",
          "text": [
            "Digite su edad: 0\n",
            "Bebe\n"
          ]
        }
      ],
      "source": [
        "edad = int(input(\"Digite su edad: \"))\n",
        "if edad <=-1:\n",
        "  print(\"Aun no has nacido\")\n",
        "elif edad<=2:\n",
        "  print(\"Bebe\")\n",
        "elif edad<=12:\n",
        "  print(\"Niño\")\n",
        "elif edad<18:\n",
        "  print(\"Adolescente\")\n",
        "elif edad<=55:\n",
        "  print(\"Adulto\")\n",
        "elif edad<85:\n",
        "  print(\"Adulto mayor\")\n",
        "else:\n",
        "  print(\"Longevidad\")\n"
      ]
    },
    {
      "cell_type": "code",
      "execution_count": null,
      "metadata": {
        "colab": {
          "base_uri": "https://localhost:8080/"
        },
        "id": "l6IvxOJIMCmE",
        "outputId": "3b87da56-1224-4f3a-e02e-1e43228a196f"
      },
      "outputs": [
        {
          "name": "stdout",
          "output_type": "stream",
          "text": [
            "Digite su edad: 21\n",
            "Adulto\n",
            "Desea continuar? s, sino cualquier tecla: s\n",
            "Digite su edad: 0\n",
            "Bebe\n",
            "Desea continuar? s, sino cualquier tecla: s\n",
            "Digite su edad: -30\n",
            "Aun no has nacido\n",
            "Desea continuar? s, sino cualquier tecla: m\n"
          ]
        }
      ],
      "source": [
        "#Digitar edad y permitir que el programa se ejecute hasta que el usuario decida\n",
        "continuar = \"s\"\n",
        "while continuar == \"s\":\n",
        "  edad = int(input(\"Digite su edad: \"))\n",
        "  if edad <=-1:\n",
        "    print(\"Aun no has nacido\")\n",
        "  elif edad<=2:\n",
        "    print(\"Bebe\")\n",
        "  elif edad<=12:\n",
        "    print(\"Niño\")\n",
        "  elif edad<18:\n",
        "    print(\"Adolescente\")\n",
        "  elif edad<=55:\n",
        "    print(\"Adulto\")\n",
        "  elif edad<85:\n",
        "    print(\"Adulto mayor\")\n",
        "  else:\n",
        "    print(\"Longevidad\")\n",
        "  continuar = input(\"Desea continuar? s, sino cualquier tecla: \")"
      ]
    },
    {
      "cell_type": "code",
      "execution_count": null,
      "metadata": {
        "colab": {
          "base_uri": "https://localhost:8080/"
        },
        "id": "EYnY_SeZJLp-",
        "outputId": "f498160d-f334-4af9-ae82-958c1619f1bf"
      },
      "outputs": [
        {
          "name": "stdout",
          "output_type": "stream",
          "text": [
            "Digite un numero: -3\n",
            "El numero es negativo\n"
          ]
        }
      ],
      "source": [
        "#numero positivos o negativos\n",
        "numero= int(input(\"Digite un numero: \"))\n",
        "if numero>0:\n",
        "    print(\"El numero es positivo\")\n",
        "elif  numero<0:\n",
        "    print(\"El numero es negativo\")\n",
        "else:\n",
        "    print(\"El numero es cero\")"
      ]
    },
    {
      "cell_type": "code",
      "execution_count": null,
      "metadata": {
        "colab": {
          "base_uri": "https://localhost:8080/"
        },
        "id": "ZOeRYTPSO1xZ",
        "outputId": "40a6e5eb-735a-4314-e74d-6b4b5389e3dd"
      },
      "outputs": [
        {
          "name": "stdout",
          "output_type": "stream",
          "text": [
            "Tabla:2\n",
            "2 x 1 = 2\n",
            "2 x 2 = 4\n",
            "2 x 3 = 6\n",
            "2 x 4 = 8\n",
            "2 x 5 = 10\n",
            "2 x 6 = 12\n",
            "2 x 7 = 14\n",
            "2 x 8 = 16\n",
            "2 x 9 = 18\n",
            "2 x 10 = 20\n",
            "Desea continuar? s, sino cualquier tecla: s\n",
            "Tabla:7\n",
            "7 x 1 = 7\n",
            "7 x 2 = 14\n",
            "7 x 3 = 21\n",
            "7 x 4 = 28\n",
            "7 x 5 = 35\n",
            "7 x 6 = 42\n",
            "7 x 7 = 49\n",
            "7 x 8 = 56\n",
            "7 x 9 = 63\n",
            "7 x 10 = 70\n",
            "Desea continuar? s, sino cualquier tecla: s\n",
            "Tabla:9\n",
            "9 x 1 = 9\n",
            "9 x 2 = 18\n",
            "9 x 3 = 27\n",
            "9 x 4 = 36\n",
            "9 x 5 = 45\n",
            "9 x 6 = 54\n",
            "9 x 7 = 63\n",
            "9 x 8 = 72\n",
            "9 x 9 = 81\n",
            "9 x 10 = 90\n",
            "Desea continuar? s, sino cualquier tecla: n\n"
          ]
        }
      ],
      "source": [
        "# solicitar una tabla de multiplicr y generarla\n",
        "continuar = \"s\"\n",
        "while continuar == \"s\":\n",
        "  tabla = int(input(\"Tabla: \"))\n",
        "  for i in range(1,11):\n",
        "    print(tabla, \"x\", i, \"=\", tabla*i)\n",
        "  continuar = input(\"Desea continuar? s, sino cualquier tecla: \")"
      ]
    },
    {
      "cell_type": "markdown",
      "metadata": {
        "id": "f_uKuXN1-4xL"
      },
      "source": [
        "TAREA DE PYTHON-----\n",
        "Miercoles 21-08-24"
      ]
    },
    {
      "cell_type": "markdown",
      "metadata": {
        "id": "cL1eM7k2CgCz"
      },
      "source": [
        "1- Calcular sobre el sueldo las deducciones por ley ISSS (3%), AFP(6.25%), ISR(Según tabla) e imprima el total deducciones y\n",
        "sueldo neto."
      ]
    },
    {
      "cell_type": "code",
      "execution_count": null,
      "metadata": {
        "colab": {
          "background_save": true
        },
        "id": "bPia70gnClj7",
        "outputId": "6264b1aa-6aa6-4a11-d068-9c5890599bff"
      },
      "outputs": [
        {
          "name": "stdout",
          "output_type": "stream",
          "text": [
            "Sueldo Bruto: $365.00\n",
            "Total Deducciones: $33.76\n",
            "Sueldo Neto: $331.24\n"
          ]
        }
      ],
      "source": [
        "#Deducciones\n",
        "def calcular_deducciones_y_sueldo_neto(sueldo_bruto):\n",
        "    # Deducciones por ley\n",
        "    isss = sueldo_bruto * 0.03\n",
        "    afp = sueldo_bruto * 0.0625\n",
        "\n",
        "    # Ingreso después de deducciones de ISSS y AFP\n",
        "    ingreso_despues_deducciones = sueldo_bruto - isss - afp\n",
        "\n",
        "    # Cálculo del ISR según tabla\n",
        "    if ingreso_despues_deducciones <= 4064.00:\n",
        "        isr = 0\n",
        "    elif ingreso_despues_deducciones <= 9142.86:\n",
        "        isr = 212.12 + (0.10 * (ingreso_despues_deducciones - 4064.00))\n",
        "    elif ingreso_despues_deducciones <= 22857.14:\n",
        "        isr = 720.00 + (0.20 * (ingreso_despues_deducciones - 9142.86))\n",
        "    else:\n",
        "        isr = 3462.86 + (0.30 * (ingreso_despues_deducciones - 22857.14))\n",
        "\n",
        "    # Total de deducciones\n",
        "    total_deducciones = isss + afp + isr\n",
        "\n",
        "    # Sueldo neto\n",
        "    sueldo_neto = sueldo_bruto - total_deducciones\n",
        "\n",
        "    return total_deducciones, sueldo_neto\n",
        "\n",
        "sueldo_bruto = 365 # Valor el Salvador\n",
        "total_deducciones, sueldo_neto = calcular_deducciones_y_sueldo_neto(sueldo_bruto)\n",
        "\n",
        "print(f\"Sueldo Bruto: ${sueldo_bruto:.2f}\")\n",
        "print(f\"Total Deducciones: ${total_deducciones:.2f}\")\n",
        "print(f\"Sueldo Neto: ${sueldo_neto:.2f}\")"
      ]
    },
    {
      "cell_type": "markdown",
      "metadata": {
        "id": "DEeKsBsK_D-j"
      },
      "source": [
        "2- Calcular el valor a pagar según el número de metros consumidos de agua potable"
      ]
    },
    {
      "cell_type": "code",
      "execution_count": null,
      "metadata": {
        "colab": {
          "base_uri": "https://localhost:8080/"
        },
        "id": "E50k7aNfANjj",
        "outputId": "72d56137-e277-4bd1-931b-6ebcbc5974d1"
      },
      "outputs": [
        {
          "name": "stdout",
          "output_type": "stream",
          "text": [
            "Ingresa el número de metros de agua consumidos: 18.5\n",
            "El total del valor a pagar es: $4.33\n"
          ]
        }
      ],
      "source": [
        "def calcular_tarifa_agua(metros_consumidos):\n",
        "    if metros_consumidos <= 0:\n",
        "        return \"No se puede calcular con un valor negativo o cero.\"\n",
        "    elif metros_consumidos <= 18:\n",
        "        return 6.00\n",
        "    elif 19 <= metros_consumidos <= 28:\n",
        "        return 6.00 + (metros_consumidos - 18) * 0.45\n",
        "    else:\n",
        "        return 6.00 + (28 - 18) * 0.45 + (metros_consumidos - 28) * 0.65\n",
        "\n",
        "# Solicitar al usuario el número de metros consumidos\n",
        "try:\n",
        "    metros_consumidos = float(input(\"Ingresa el número de metros de agua consumidos: \"))\n",
        "    tarifa = calcular_tarifa_agua(metros_consumidos)\n",
        "\n",
        "    if isinstance(tarifa, str):\n",
        "        print(tarifa)\n",
        "    else:\n",
        "        print(f\"El total del valor a pagar es: ${tarifa:.2f}\")\n",
        "\n",
        "except ValueError:\n",
        "    print(\"Por favor, ingresa un número válido.\")\n",
        "\n",
        "\n"
      ]
    },
    {
      "cell_type": "markdown",
      "metadata": {
        "id": "ohKc1fQUCrdE"
      },
      "source": [
        "3- Desarrolle la tabla de meses acumulados a n meses. Si puede encontrar la fórmula matemática para evitar ciclos."
      ]
    },
    {
      "cell_type": "code",
      "execution_count": null,
      "metadata": {
        "colab": {
          "base_uri": "https://localhost:8080/"
        },
        "id": "as9ZMuizCwtj",
        "outputId": "28cac3a5-e745-4633-d651-c2ec4d0156a5"
      },
      "outputs": [
        {
          "name": "stdout",
          "output_type": "stream",
          "text": [
            "Ingresa el número de meses para calcular la tabla acumulada: 12\n",
            "\n",
            "Tabla de meses acumulados para 12 meses:\n",
            "Mes 1: 1\n",
            "Mes 2: 3\n",
            "Mes 3: 6\n",
            "Mes 4: 10\n",
            "Mes 5: 15\n",
            "Mes 6: 21\n",
            "Mes 7: 28\n",
            "Mes 8: 36\n",
            "Mes 9: 45\n",
            "Mes 10: 55\n",
            "Mes 11: 66\n",
            "Mes 12: 78\n"
          ]
        }
      ],
      "source": [
        "#meses acumulados con ciclo\n",
        "def meses_acumulados(n):\n",
        "    return [(i * (i + 1)) // 2 for i in range(1, n + 1)]\n",
        "\n",
        "while True:\n",
        "    try:\n",
        "        n = int(input(\"Ingresa el número de meses para calcular la tabla acumulada: \"))\n",
        "        if n > 0:\n",
        "            break\n",
        "        else:\n",
        "            print(\"Por favor, ingresa un número positivo.\")\n",
        "    except ValueError:\n",
        "        print(\"Por favor, ingresa un número entero válido.\")\n",
        "\n",
        "tabla_acumulada = meses_acumulados(n)\n",
        "\n",
        "print(f\"\\nTabla de meses acumulados para {n} meses:\")\n",
        "for i, valor in enumerate(tabla_acumulada, start=1):\n",
        "    print(f\"Mes {i}: {valor}\")\n"
      ]
    },
    {
      "cell_type": "code",
      "execution_count": null,
      "metadata": {
        "colab": {
          "base_uri": "https://localhost:8080/"
        },
        "id": "oihIS9SdrzjQ",
        "outputId": "7cdf5240-a4f9-4187-9b8c-997573cf8def"
      },
      "outputs": [
        {
          "name": "stdout",
          "output_type": "stream",
          "text": [
            "Ingresa el número de meses para calcular la tabla acumulada: 12.4\n",
            "Por favor, ingresa un número entero válido.\n",
            "Ingresa el número de meses para calcular la tabla acumulada: 9\n",
            "\n",
            "Tabla de meses acumulados para 9 meses:\n",
            "Mes 1: 1\n",
            "Mes 2: 3\n",
            "Mes 3: 6\n",
            "Mes 4: 10\n",
            "Mes 5: 15\n",
            "Mes 6: 21\n",
            "Mes 7: 28\n",
            "Mes 8: 36\n",
            "Mes 9: 45\n"
          ]
        }
      ],
      "source": [
        "#Meses acumulados sin ciclos\n",
        "def calcular_valor_acumulado(n):\n",
        "    return (n * (n + 1)) // 2\n",
        "\n",
        "def imprimir_tabla(n):\n",
        "    # Usamos la fórmula para calcular y mostrar cada valor sin usar ciclos\n",
        "    def imprimir_mes(i):\n",
        "        if i > n:\n",
        "            return\n",
        "        valor = calcular_valor_acumulado(i)\n",
        "        print(f\"Mes {i}: {valor}\")\n",
        "        imprimir_mes(i + 1)\n",
        "\n",
        "    imprimir_mes(1)\n",
        "\n",
        "def pedir_numero():\n",
        "    try:\n",
        "        n = int(input(\"Ingresa el número de meses para calcular la tabla acumulada: \"))\n",
        "        if n > 0:\n",
        "            return n\n",
        "        else:\n",
        "            print(\"Por favor, ingresa un número positivo.\")\n",
        "            return pedir_numero()\n",
        "    except ValueError:\n",
        "        print(\"Por favor, ingresa un número entero válido.\")\n",
        "        return pedir_numero()\n",
        "\n",
        "# Obtener el número de meses válido\n",
        "n = pedir_numero()\n",
        "\n",
        "# Imprimir la tabla acumulada\n",
        "print(f\"\\nTabla de meses acumulados para {n} meses:\")\n",
        "imprimir_tabla(n)\n"
      ]
    },
    {
      "cell_type": "markdown",
      "metadata": {
        "id": "_yiRC1jXCxFj"
      },
      "source": [
        "4- Conversores: (40%) (10 ítems como mínimo por cada uno)\n",
        "• Monedas (Resuelto en clases)\n",
        "• Longitud\n",
        "• Masa\n",
        "• Almacenamiento\n",
        "• Tiempo\n",
        "• Volumen\n",
        "• Área\n",
        "• Manzanas\n",
        "• Tareas"
      ]
    },
    {
      "cell_type": "markdown",
      "metadata": {
        "id": "Hh4oe3gQkOSN"
      },
      "source": [
        "LONGITUD"
      ]
    },
    {
      "cell_type": "code",
      "execution_count": null,
      "metadata": {
        "colab": {
          "base_uri": "https://localhost:8080/"
        },
        "id": "9iAoVMShR2nc",
        "outputId": "c094c12f-090a-48c4-c62f-7c7cdd2b3443"
      },
      "outputs": [
        {
          "name": "stdout",
          "output_type": "stream",
          "text": [
            "Ingrese el valor a convertir: 80\n",
            "Digite la unidad de origen: yardas\n",
            "Digite la unidad de destino: pulgadas\n",
            "80.0 yardas son 2880.0 pulgadas\n"
          ]
        }
      ],
      "source": [
        "#Longitud\n",
        "def convertir_longitud(valor, unidad_origen, unidad_destino):\n",
        "    unidades = {\n",
        "        'metros': 1.0,\n",
        "        'kilometros': 1000.0,\n",
        "        'centimetros': 0.01,\n",
        "        'milimetros': 0.001,\n",
        "        'micrometros': 1e-6,\n",
        "        'nanometros': 1e-9,\n",
        "        'millas': 1609.34,\n",
        "        'yardas': 0.9144,\n",
        "        'pies': 0.3048,\n",
        "        'pulgadas': 0.0254,\n",
        "    }\n",
        "\n",
        "    try:\n",
        "        factor_origen = unidades[unidad_origen]\n",
        "        factor_destino = unidades[unidad_destino]\n",
        "        return valor * factor_origen / factor_destino\n",
        "    except KeyError:\n",
        "        raise ValueError(\"Unidad de origen o destino no reconocida.\")\n",
        "\n",
        "def es_flotante(valor):\n",
        "    try:\n",
        "        float(valor)\n",
        "        return True\n",
        "    except ValueError:\n",
        "        return False\n",
        "\n",
        "def es_alfabetico(texto):\n",
        "    return bool(re.match(\"^[a-zA-Z]+$\", texto))\n",
        "\n",
        "try:\n",
        "    # Validación solo numeros\n",
        "    valor_input = input(\"Ingrese el valor a convertir: \")\n",
        "    if not es_flotante(valor_input):\n",
        "        raise ValueError(\"Debe ingresar numeros válidos.\")\n",
        "    valor = float(valor_input)\n",
        "\n",
        "    # Validación escribir letras, no numeros\n",
        "    unidad_origen = input(\"Digite la unidad de origen: \").strip().lower()\n",
        "    if not es_alfabetico(unidad_origen):\n",
        "        raise ValueError(\"La unidad de origen debe contener solo letras.\")\n",
        "\n",
        "    unidad_destino = input(\"Digite la unidad de destino: \").strip().lower()\n",
        "    if not es_alfabetico(unidad_destino):\n",
        "        raise ValueError(\"La unidad de destino debe contener solo letras.\")\n",
        "\n",
        "    resultado = convertir_longitud(valor, unidad_origen, unidad_destino)\n",
        "    print(f\"{valor} {unidad_origen} son {resultado} {unidad_destino}\")\n",
        "\n",
        "except ValueError as e:\n",
        "    print(f\"Error: {e}\")\n"
      ]
    },
    {
      "cell_type": "markdown",
      "metadata": {
        "id": "xjSCksVhkMBH"
      },
      "source": [
        "ALMACENAMIENTO"
      ]
    },
    {
      "cell_type": "code",
      "execution_count": null,
      "metadata": {
        "colab": {
          "base_uri": "https://localhost:8080/"
        },
        "id": "p1w5wQNQVwep",
        "outputId": "779cd0ac-dd85-4ac8-9976-49811315452b"
      },
      "outputs": [
        {
          "name": "stdout",
          "output_type": "stream",
          "text": [
            "Ingrese el valor a convertir: 500\n",
            "Digite la unidad de origen: byte\n",
            "Digite la unidad de destino: bit\n",
            "500.0 byte son 4000.0 bit\n"
          ]
        }
      ],
      "source": [
        "#almacenamiento\n",
        "def convertir_almacenamiento(valor, unidad_origen, unidad_destino):\n",
        "    unidades = {\n",
        "        'byte': 1,\n",
        "        'kilobyte': 0.001,\n",
        "        'megabyte': 0.000001,\n",
        "        'gigabyte': 0.000000001,\n",
        "        'terabyte': 0.000000000001,\n",
        "        'petabyte': 0.000000000000001,\n",
        "        'exabyte': 0.000000000000000001,\n",
        "        'zettabyte': 0.000000000000000000001,\n",
        "        'yottabyte': 0.000000000000000000000001,\n",
        "        'bit': 0.125\n",
        "    }\n",
        "\n",
        "    try:\n",
        "        factor_origen = unidades[unidad_origen]\n",
        "        factor_destino = unidades[unidad_destino]\n",
        "        return valor * factor_origen / factor_destino\n",
        "    except KeyError:\n",
        "        raise ValueError(\"Unidad de origen o destino no reconocida.\")\n",
        "\n",
        "def es_flotante(valor):\n",
        "    try:\n",
        "        float(valor)\n",
        "        return True\n",
        "    except ValueError:\n",
        "        return False\n",
        "\n",
        "def es_alfabetico(texto):\n",
        "    return bool(re.match(\"^[a-zA-Z]+$\", texto))\n",
        "\n",
        "try:\n",
        "    # Validación del valor como número flotante\n",
        "    valor_input = input(\"Ingrese el valor a convertir: \")\n",
        "    if not es_flotante(valor_input):\n",
        "        raise ValueError(\"Debe ingresar un número válido.\")\n",
        "    valor = float(valor_input)\n",
        "\n",
        "    # Validación de las unidades como texto sin números\n",
        "    unidad_origen = input(\"Digite la unidad de origen: \").strip().lower()\n",
        "    if not es_alfabetico(unidad_origen):\n",
        "        raise ValueError(\"La unidad de origen debe contener solo letras.\")\n",
        "\n",
        "    unidad_destino = input(\"Digite la unidad de destino: \").strip().lower()\n",
        "    if not es_alfabetico(unidad_destino):\n",
        "        raise ValueError(\"La unidad de destino debe contener solo letras.\")\n",
        "\n",
        "    resultado = convertir_almacenamiento(valor, unidad_origen, unidad_destino)\n",
        "    print(f\"{valor} {unidad_origen} son {resultado} {unidad_destino}\")\n",
        "\n",
        "except ValueError as e:\n",
        "    print(f\"Error: {e}\")\n"
      ]
    },
    {
      "cell_type": "markdown",
      "metadata": {
        "id": "hfBLDkoHkKD_"
      },
      "source": [
        "MONEDA\n"
      ]
    },
    {
      "cell_type": "code",
      "execution_count": null,
      "metadata": {
        "colab": {
          "base_uri": "https://localhost:8080/"
        },
        "id": "wggirWRaiY63",
        "outputId": "cee49fdd-d92c-401e-b2b8-a1692bf1948b"
      },
      "outputs": [
        {
          "name": "stdout",
          "output_type": "stream",
          "text": [
            "Ingrese el valor a convertir: 400\n",
            "Ingrese la moneda de origen: euro\n",
            "Ingrese la moneda de destino: quetzal\n",
            "400.0 quetzal son 46.82 euro\n"
          ]
        }
      ],
      "source": [
        "#MONEDAS\n",
        "import re\n",
        "\n",
        "def convertir_moneda(valor, moneda_origen, moneda_destino):\n",
        "    tasas_de_cambio = {\n",
        "        'dolar': 1,\n",
        "        'euro': 0.92,\n",
        "        'quetzal': 7.86,\n",
        "        'lempira': 24.62,\n",
        "        'cordoba': 36.56,\n",
        "        'colonsv': 8.75,\n",
        "        'coloncr': 535.14,\n",
        "        'yenes': 145.52,\n",
        "        'rupias indias': 83.32,\n",
        "        'libras esterlinas': 0.79,\n",
        "    }\n",
        "\n",
        "    try:\n",
        "        tasa_origen = tasas_de_cambio[moneda_origen]\n",
        "        tasa_destino = tasas_de_cambio[moneda_destino]\n",
        "        return valor * (tasa_origen / tasa_destino)\n",
        "    except KeyError:\n",
        "        raise ValueError(\"Moneda de origen o destino no reconocida.\")\n",
        "\n",
        "def es_flotante(valor):\n",
        "    try:\n",
        "        float(valor)\n",
        "        return True\n",
        "    except ValueError:\n",
        "        return False\n",
        "\n",
        "def es_alfabetico(texto):\n",
        "    return bool(re.match(\"^[a-zA-Z\\s]+$\", texto))\n",
        "\n",
        "try:\n",
        "    # Validación del valor como número flotante\n",
        "    valor_input = input(\"Ingrese el valor a convertir: \")\n",
        "    if not es_flotante(valor_input):\n",
        "        raise ValueError(\"Debe ingresar un número válido.\")\n",
        "    valor = float(valor_input)\n",
        "\n",
        "    # Validación de las monedas como texto sin números\n",
        "    moneda_origen = input(\"Ingrese la moneda de origen: \").strip().lower()\n",
        "    if not es_alfabetico(moneda_origen):\n",
        "        raise ValueError(\"La moneda de origen debe contener solo letras y espacios.\")\n",
        "\n",
        "    moneda_destino = input(\"Ingrese la moneda de destino: \").strip().lower()\n",
        "    if not es_alfabetico(moneda_destino):\n",
        "        raise ValueError(\"La moneda de destino debe contener solo letras y espacios.\")\n",
        "\n",
        "    resultado = convertir_moneda(valor, moneda_origen, moneda_destino)\n",
        "    print(f\"{valor} {moneda_destino} son {resultado:.2f} {moneda_origen}\")\n",
        "\n",
        "except ValueError as e:\n",
        "    print(f\"Error: {e}\")\n"
      ]
    },
    {
      "cell_type": "markdown",
      "metadata": {
        "id": "twgnWKnPiXsV"
      },
      "source": [
        "MASA\n"
      ]
    },
    {
      "cell_type": "code",
      "execution_count": null,
      "metadata": {
        "colab": {
          "base_uri": "https://localhost:8080/"
        },
        "id": "vDi0STb6UPu2",
        "outputId": "4c4e0334-07f1-4635-babf-17cfb2a43034"
      },
      "outputs": [
        {
          "name": "stdout",
          "output_type": "stream",
          "text": [
            "Ingrese el valor a convertir: 2.4\n",
            "Ingrese la unidad de origen: libra\n",
            "Ingrese la unidad de destino: onza\n",
            "2.4 libra son 38.4 onza\n"
          ]
        }
      ],
      "source": [
        "#Masa\n",
        "#{1, 0.453592, 453.592, 0.000453592, 453592, 453600000, 0.000446429, 0.0005, 0.0714286, 16}, //Masa\n",
        "def convertir_masa(valor, unidad_origen, unidad_destino):\n",
        "    unidades_de_masa = {\n",
        "        'libra': 1,\n",
        "        'kilogramo': 0.453592,\n",
        "        'gramo': 453.592,\n",
        "        'tonelada': 0.000453592,\n",
        "        'miligramo': 453592,\n",
        "        'microgramo': 453600000,\n",
        "        'tonelada larga': 0.000446429,\n",
        "        'tonelada corta': 0.0005,\n",
        "        'stone': 0.0714286,\n",
        "        'onza': 16\n",
        "    }\n",
        "\n",
        "    try:\n",
        "        tasa_origen_a_destino = unidades_de_masa[unidad_destino] / unidades_de_masa[unidad_origen]\n",
        "        resultado = valor * tasa_origen_a_destino\n",
        "        return round(resultado, 2)\n",
        "    except KeyError:\n",
        "        raise ValueError(\"Unidad de origen o destino no reconocida.\")\n",
        "\n",
        "def es_flotante(valor):\n",
        "    try:\n",
        "        float(valor)\n",
        "        return True\n",
        "    except ValueError:\n",
        "        return False\n",
        "\n",
        "def es_alfabetico(texto):\n",
        "    return bool(re.match(\"^[a-zA-Z\\s]+$\", texto))\n",
        "\n",
        "try:\n",
        "    # Validación del valor como número flotante\n",
        "    valor_input = input(\"Ingrese el valor a convertir: \")\n",
        "    if not es_flotante(valor_input):\n",
        "        raise ValueError(\"Debe ingresar un número válido.\")\n",
        "    valor = float(valor_input)\n",
        "\n",
        "    # Validación de las unidades como texto sin números\n",
        "    unidad_origen = input(\"Ingrese la unidad de origen: \").strip().lower()\n",
        "    if not es_alfabetico(unidad_origen):\n",
        "        raise ValueError(\"La unidad de origen debe contener solo letras.\")\n",
        "\n",
        "    unidad_destino = input(\"Ingrese la unidad de destino: \").strip().lower()\n",
        "    if not es_alfabetico(unidad_destino):\n",
        "        raise ValueError(\"La unidad de destino debe contener solo letras.\")\n",
        "\n",
        "    resultado = convertir_masa(valor, unidad_origen, unidad_destino)\n",
        "    print(f\"{valor} {unidad_origen} son {resultado} {unidad_destino}\")\n",
        "\n",
        "except ValueError as e:\n",
        "    print(f\"Error: {e}\")\n"
      ]
    },
    {
      "cell_type": "markdown",
      "metadata": {
        "id": "loRSENg7kSrN"
      },
      "source": [
        "VOLUMEN"
      ]
    },
    {
      "cell_type": "code",
      "execution_count": null,
      "metadata": {
        "colab": {
          "base_uri": "https://localhost:8080/"
        },
        "id": "sSQhOSxRcVJf",
        "outputId": "fcbf73c9-bcb2-4f4a-968e-2acfbd432af9"
      },
      "outputs": [
        {
          "name": "stdout",
          "output_type": "stream",
          "text": [
            "Ingrese el valor a convertir: 400\n",
            "Ingrese la unidad de origen: metro cubico\n",
            "Ingrese la unidad de destino: litro\n",
            "400.0 metro cubico son 400000.0 litro\n"
          ]
        }
      ],
      "source": [
        "#Volumen\n",
        "#{1, 0.264172, 1.05669, 2.11338, 4.16667, 33.814, 67.628, 202.884, 0.001, 1000},\n",
        "def convertir_volumen(valor, unidad_origen, unidad_destino):\n",
        "    unidades_de_volumen = {\n",
        "        'litro': 1,\n",
        "        'galon usa': 0.264172,\n",
        "        'cuarto usa': 1.05669,\n",
        "        'pinta usa': 2.11338,\n",
        "        'taza usa': 4.16667,\n",
        "        'onza liquida': 33.814,\n",
        "        'cuchara usa':67.628 ,\n",
        "        'cucharadita usa': 202.884,\n",
        "        'metro cubico': 0.001,\n",
        "        'milimetro': 1000\n",
        "    }\n",
        "\n",
        "    try:\n",
        "        tasa_origen_a_destino = unidades_de_volumen[unidad_destino] / unidades_de_volumen[unidad_origen]\n",
        "        resultado = valor * tasa_origen_a_destino\n",
        "        return round(resultado, 2)\n",
        "    except KeyError:\n",
        "        raise ValueError(\"Unidad de origen o destino no reconocida.\")\n",
        "\n",
        "def es_flotante(valor):\n",
        "    try:\n",
        "        float(valor)\n",
        "        return True\n",
        "    except ValueError:\n",
        "        return False\n",
        "\n",
        "def es_alfabetico(texto):\n",
        "    return bool(re.match(\"^[a-zA-Z\\s]+$\", texto))\n",
        "\n",
        "try:\n",
        "    # Validación del valor como número flotante\n",
        "    valor_input = input(\"Ingrese el valor a convertir: \")\n",
        "    if not es_flotante(valor_input):\n",
        "        raise ValueError(\"Debe ingresar un número válido.\")\n",
        "    valor = float(valor_input)\n",
        "\n",
        "    # Validación de las unidades como texto sin números\n",
        "    unidad_origen = input(\"Ingrese la unidad de origen: \").strip().lower()\n",
        "    if not es_alfabetico(unidad_origen):\n",
        "        raise ValueError(\"La unidad de origen debe contener solo letras.\")\n",
        "\n",
        "    unidad_destino = input(\"Ingrese la unidad de destino: \").strip().lower()\n",
        "    if not es_alfabetico(unidad_destino):\n",
        "        raise ValueError(\"La unidad de destino debe contener solo letras.\")\n",
        "\n",
        "    resultado = convertir_volumen(valor, unidad_origen, unidad_destino)\n",
        "    print(f\"{valor} {unidad_origen} son {resultado} {unidad_destino}\")\n",
        "\n",
        "except ValueError as e:\n",
        "    print(f\"Error: {e}\")"
      ]
    },
    {
      "cell_type": "markdown",
      "metadata": {
        "id": "Eu2od0fJkUa1"
      },
      "source": [
        "TIEMPO"
      ]
    },
    {
      "cell_type": "code",
      "execution_count": null,
      "metadata": {
        "colab": {
          "base_uri": "https://localhost:8080/"
        },
        "id": "PLce7tVZcVAF",
        "outputId": "b6fb565f-e13d-4464-ad43-b23e811caa78"
      },
      "outputs": [
        {
          "name": "stdout",
          "output_type": "stream",
          "text": [
            "Ingrese el valor a convertir: 4000\n",
            "Ingrese la unidad de origen: milisegundo\n",
            "Ingrese la unidad de destino: minuto\n",
            "4000.0 milisegundo son 0.07 minuto\n"
          ]
        }
      ],
      "source": [
        "#tiempo\n",
        "# {1, 60, 0.0166667, 0.000694444, 0.000099206, 0.000022831, 0.0000019026, 0.00000019026, 0.00000001903, 60000}, //Tiempo,\n",
        "def convertir_tiempo(valor, unidad_origen, unidad_destino):\n",
        "    unidades_de_tiempo = {\n",
        "        'minuto': 1,\n",
        "        'segundo': 60,\n",
        "        'hora': 0.0166667,\n",
        "        'dia': 0.000694444,\n",
        "        'semana': 0.000099206,\n",
        "        'mes': 0.000022831,\n",
        "        'año':0.0000019026 ,\n",
        "        'decada': 0.00000001903,\n",
        "        'siglo': 0.00000001903,\n",
        "        'milisegundo': 60000\n",
        "    }\n",
        "\n",
        "    try:\n",
        "        tasa_origen_a_destino = unidades_de_tiempo[unidad_destino] / unidades_de_tiempo[unidad_origen]\n",
        "        resultado = valor * tasa_origen_a_destino\n",
        "        return round(resultado, 2)\n",
        "    except KeyError:\n",
        "        raise ValueError(\"Unidad de origen o destino no reconocida.\")\n",
        "\n",
        "def es_flotante(valor):\n",
        "    try:\n",
        "        float(valor)\n",
        "        return True\n",
        "    except ValueError:\n",
        "        return False\n",
        "\n",
        "def es_alfabetico(texto):\n",
        "    return bool(re.match(\"^[a-zA-Z\\s]+$\", texto))\n",
        "\n",
        "try:\n",
        "    # Validación del valor como número flotante\n",
        "    valor_input = input(\"Ingrese el valor a convertir: \")\n",
        "    if not es_flotante(valor_input):\n",
        "        raise ValueError(\"Debe ingresar un número válido.\")\n",
        "    valor = float(valor_input)\n",
        "\n",
        "    # Validación de las unidades como texto sin números\n",
        "    unidad_origen = input(\"Ingrese la unidad de origen: \").strip().lower()\n",
        "    if not es_alfabetico(unidad_origen):\n",
        "        raise ValueError(\"La unidad de origen debe contener solo letras.\")\n",
        "\n",
        "    unidad_destino = input(\"Ingrese la unidad de destino: \").strip().lower()\n",
        "    if not es_alfabetico(unidad_destino):\n",
        "        raise ValueError(\"La unidad de destino debe contener solo letras.\")\n",
        "\n",
        "    resultado = convertir_tiempo(valor, unidad_origen, unidad_destino)\n",
        "    print(f\"{valor} {unidad_origen} son {resultado} {unidad_destino}\")\n",
        "\n",
        "except ValueError as e:\n",
        "    print(f\"Error: {e}\")"
      ]
    },
    {
      "cell_type": "markdown",
      "metadata": {
        "id": "wD_INZzGkVv9"
      },
      "source": [
        "AREA"
      ]
    },
    {
      "cell_type": "code",
      "execution_count": null,
      "metadata": {
        "colab": {
          "base_uri": "https://localhost:8080/"
        },
        "id": "LAOTfXjMmLGf",
        "outputId": "9b656494-af2f-498c-c09b-55ae8e7c2188"
      },
      "outputs": [
        {
          "name": "stdout",
          "output_type": "stream",
          "text": [
            "Ingrese el valor a convertir: 490\n",
            "Ingrese la unidad de origen: metro cuadrado\n",
            "Ingrese la unidad de destino: pie cuadrado\n",
            "490.0 metro cuadrado son 5274.32 pie cuadrado\n"
          ]
        }
      ],
      "source": [
        "#Area\n",
        "def convertir_area(valor, unidad_origen, unidad_destino):\n",
        "    unidades_de_area = {\n",
        "        'manzanas': 1,\n",
        "        'tareas': 16,\n",
        "        'metro cuadrado': 7000,\n",
        "        'vara cuadrada': 10000,\n",
        "        'yarda cuadrada':  8371.93,\n",
        "        'pie cuadrado': 75.207,\n",
        "        'hectareas': 0.70,\n",
        "        'acre':1.729738,\n",
        "        'milla cuadrada': 0.002702715,\n",
        "        'pie cuadrado': 75347.37\n",
        "    }\n",
        "\n",
        "    try:\n",
        "        tasa_origen_a_destino = unidades_de_area[unidad_destino] / unidades_de_area[unidad_origen]\n",
        "        resultado = valor * tasa_origen_a_destino\n",
        "        return round(resultado, 2)\n",
        "    except KeyError:\n",
        "        raise ValueError(\"Unidad de origen o destino no reconocida.\")\n",
        "\n",
        "def es_flotante(valor):\n",
        "    try:\n",
        "        float(valor)\n",
        "        return True\n",
        "    except ValueError:\n",
        "        return False\n",
        "\n",
        "def es_alfabetico(texto):\n",
        "    return bool(re.match(\"^[a-zA-Z\\s]+$\", texto))\n",
        "\n",
        "try:\n",
        "    # Validación del valor como número flotante\n",
        "    valor_input = input(\"Ingrese el valor a convertir: \")\n",
        "    if not es_flotante(valor_input):\n",
        "        raise ValueError(\"Debe ingresar un número válido.\")\n",
        "    valor = float(valor_input)\n",
        "\n",
        "    # Validación de las unidades como texto sin números\n",
        "    unidad_origen = input(\"Ingrese la unidad de origen: \").strip().lower()\n",
        "    if not es_alfabetico(unidad_origen):\n",
        "        raise ValueError(\"La unidad de origen debe contener solo letras.\")\n",
        "\n",
        "    unidad_destino = input(\"Ingrese la unidad de destino: \").strip().lower()\n",
        "    if not es_alfabetico(unidad_destino):\n",
        "        raise ValueError(\"La unidad de destino debe contener solo letras.\")\n",
        "\n",
        "    resultado = convertir_area(valor, unidad_origen, unidad_destino)\n",
        "    print(f\"{valor} {unidad_origen} son {resultado} {unidad_destino}\")\n",
        "\n",
        "except ValueError as e:\n",
        "    print(f\"Error: {e}\")"
      ]
    },
    {
      "cell_type": "markdown",
      "metadata": {
        "id": "wJUC241VtZJB"
      },
      "source": [
        "5-Realizar un conversor propio, donde especifiqué el valor de conversión:"
      ]
    },
    {
      "cell_type": "code",
      "execution_count": null,
      "metadata": {
        "colab": {
          "base_uri": "https://localhost:8080/"
        },
        "id": "cbuN0-v6tvWo",
        "outputId": "35c7c1af-e6d2-4637-da2d-57e62c86f510"
      },
      "outputs": [
        {
          "name": "stdout",
          "output_type": "stream",
          "text": [
            "Conversor de unidades a cajas y paquetes de galletas Sponch\n",
            "\n",
            "Opciones:\n",
            "1. Convertir unidades a paquetes de galletas Sponch\n",
            "2. Convertir paquetes de galletas Sponch a unidades\n",
            "3. Salir\n",
            "Elige una opción (1-3): 1\n",
            "Ingresa la cantidad de unidades: 9\n",
            "9.0 unidades son equivalentes a 1.8 paquetes de galletas Sponch.\n",
            "\n",
            "Opciones:\n",
            "1. Convertir unidades a paquetes de galletas Sponch\n",
            "2. Convertir paquetes de galletas Sponch a unidades\n",
            "3. Salir\n",
            "Elige una opción (1-3): 2\n",
            "Ingresa la cantidad de paquetes de galletas Sponch: 1.8\n",
            "1.8 paquetes de galletas Sponch son equivalentes a 9.0 unidades.\n",
            "\n",
            "Opciones:\n",
            "1. Convertir unidades a paquetes de galletas Sponch\n",
            "2. Convertir paquetes de galletas Sponch a unidades\n",
            "3. Salir\n",
            "Elige una opción (1-3): 3\n",
            "¡Hasta luego!\n"
          ]
        }
      ],
      "source": [
        "#Conversor propio de galletas Sponch :3\n",
        "\n",
        "def convertir_unidades_a_paquetes(unidades):\n",
        "    # Convierte unidades a paquetes de galletas Sponch\n",
        "    paquetes = unidades / 5\n",
        "    return paquetes\n",
        "\n",
        "def convertir_paquetes_a_unidades(paquetes):\n",
        "    # Convierte paquetes de galletas Sponch a unidades\n",
        "    unidades = paquetes * 5\n",
        "    return unidades\n",
        "\n",
        "def main():\n",
        "    print(\"Conversor de unidades a cajas y paquetes de galletas Sponch\")\n",
        "    while True:\n",
        "        print(\"\\nOpciones:\")\n",
        "        print(\"1. Convertir unidades a paquetes de galletas Sponch\")\n",
        "        print(\"2. Convertir paquetes de galletas Sponch a unidades\")\n",
        "        print(\"3. Salir\")\n",
        "\n",
        "        opcion = input(\"Elige una opción (1-3): \")\n",
        "\n",
        "        if opcion == \"1\":\n",
        "            unidades = float(input(\"Ingresa la cantidad de unidades: \"))\n",
        "            print(f\"{unidades} unidades son equivalentes a {convertir_unidades_a_paquetes(unidades)} paquetes de galletas Sponch.\")\n",
        "\n",
        "        elif opcion == \"2\":\n",
        "            paquetes = float(input(\"Ingresa la cantidad de paquetes de galletas Sponch: \"))\n",
        "            print(f\"{paquetes} paquetes de galletas Sponch son equivalentes a {convertir_paquetes_a_unidades(paquetes)} unidades.\")\n",
        "\n",
        "        elif opcion == \"3\":\n",
        "            print(\"¡Hasta luego!\")\n",
        "            break\n",
        "\n",
        "        else:\n",
        "            print(\"Opción no válida. Inténtalo de nuevo.\")\n",
        "\n",
        "if __name__ == \"__main__\":\n",
        "    main()"
      ]
    },
    {
      "cell_type": "markdown",
      "metadata": {
        "id": "jxs-_Fd0qEPU"
      },
      "source": [
        "Programacion orientada a objetos\n",
        "Clase virtual 19-08-24\n"
      ]
    },
    {
      "cell_type": "code",
      "execution_count": null,
      "metadata": {
        "id": "1IQ2Xcnzrd8F"
      },
      "outputs": [],
      "source": [
        "#MANUAL\n",
        "n = int(input(\"Introduzca cuantos numeros a ingresar: \"))\n",
        "suma= 0\n",
        "media=0\n",
        "\n",
        "for num in range(1, n+1):\n",
        "  num= int(input(\"Numero: \"))\n",
        "  suma+=num\n",
        "media= suma/n\n",
        "print(\"La media aritmetica es: \", media)\n"
      ]
    },
    {
      "cell_type": "code",
      "execution_count": null,
      "metadata": {
        "id": "VQykRsasqMJz"
      },
      "outputs": [],
      "source": [
        "#CLASE\n",
        "class Calculadora:\n",
        "  def sumar(self, num1, num2):\n",
        "    return num1 + num2"
      ]
    },
    {
      "cell_type": "code",
      "execution_count": null,
      "metadata": {
        "colab": {
          "base_uri": "https://localhost:8080/"
        },
        "id": "i1O54R_8qwkb",
        "outputId": "fbd5771e-1849-49df-f22a-3551050b6788"
      },
      "outputs": [
        {
          "name": "stdout",
          "output_type": "stream",
          "text": [
            "Ingrese el primer número: 4\n",
            "Ingrese el segundo número: 7\n",
            "Suma 11.0\n"
          ]
        }
      ],
      "source": [
        "#OBJETO\n",
        "obj_calculadora = Calculadora()\n",
        "num1 = float(input(\"Ingrese el primer número: \"))\n",
        "num2 = float(input(\"Ingrese el segundo número: \"))\n",
        "print(\"Suma\", obj_calculadora.sumar(num1, num2))"
      ]
    },
    {
      "cell_type": "markdown",
      "metadata": {
        "id": "6W6Ixih7rM7U"
      },
      "source": [
        "Ejercicio:\n",
        "Escriba un programa que lea una serie de numeros introducidos por el usuario y determine la media aritmetica"
      ]
    },
    {
      "cell_type": "markdown",
      "metadata": {
        "id": "ZSJbl_Y3xCJW"
      },
      "source": [
        "**Tarea adicional para miercoles**\n",
        "\n",
        "1- Encontrar de una serie de numeros introducidos por el usuario la varianza\n",
        "\n",
        "\n",
        "2- Encontrar la frecuencia de una serie de numeros introducidos por el usuario, tabla de numero\n",
        "\n",
        "3- Escriba un programa que determine si una palabra introducida por el usuario es palindrome."
      ]
    },
    {
      "cell_type": "code",
      "execution_count": null,
      "metadata": {
        "colab": {
          "base_uri": "https://localhost:8080/"
        },
        "id": "PaBOfWhtsjM6",
        "outputId": "c08286a0-d2ac-4d4c-a901-229b57908e6f"
      },
      "outputs": [
        {
          "name": "stdout",
          "output_type": "stream",
          "text": [
            "Cuantos numeros a recorrer: 4\n",
            "Numero: 1\n",
            "Numero: 7\n",
            "Numero: 8\n",
            "Numero: 7\n",
            "La media aritmetica es:  5.75\n",
            "La desviacion tipica es:  2.7726341266023544\n",
            "La varianza es:  7.6875\n",
            "La frecuencia es:  {1: 1}\n"
          ]
        }
      ],
      "source": [
        "#Media aritmetica\n",
        "import math\n",
        "import numpy as np\n",
        "\n",
        "class estadistica:\n",
        "  def calcular_media(self, serie): #Calcula la media aritmetica\n",
        "    suma=0\n",
        "    for num in serie:\n",
        "      suma += num\n",
        "    return suma/len(serie)\n",
        "\n",
        "  def calcular_tipica(self, serie): # Calcula la desviacion tipica\n",
        "    media= self.calcular_media(serie)\n",
        "    suma=0\n",
        "    for num in serie:\n",
        "      suma+= (num-media)**2\n",
        "    return math.sqrt(suma/len(serie))\n",
        "\n",
        "  def calcular_frecuencia(self, serie): #calcula la frecuencia\n",
        "    frecuencia={}\n",
        "    for num in serie:\n",
        "      if num in frecuencia:\n",
        "        frecuencia[num]+1\n",
        "      else:\n",
        "          frecuencia[num]=1\n",
        "      return frecuencia\n",
        "\n",
        "  def calcular_varianza(self, serie): #calcula la varianza\n",
        "    varianza=0\n",
        "    varianza= np.var(serie)\n",
        "    return varianza\n",
        "\n",
        "\n",
        "n= int(input(\"Cuantos numeros a recorrer: \"))\n",
        "serie =[]\n",
        "for num in range(1, n+1):\n",
        "  serie.append(int(input(\"Numero: \")))\n",
        "\n",
        "obj_estadistica = estadistica()\n",
        "print(\"La media aritmetica es: \", obj_estadistica.calcular_media(serie))\n",
        "\n",
        "print(\"La desviacion tipica es: \", obj_estadistica.calcular_tipica(serie))\n",
        "\n",
        "#print(\"La desviacion tipica es: \", round(obj_estadistica.calcular_tipica(serie)))\n",
        "\n",
        "print(\"La varianza es: \", obj_estadistica.calcular_varianza(serie) )\n",
        "\n",
        "print(\"La frecuencia es: \", obj_estadistica.calcular_frecuencia(serie))"
      ]
    },
    {
      "cell_type": "code",
      "execution_count": null,
      "metadata": {
        "colab": {
          "base_uri": "https://localhost:8080/"
        },
        "id": "KWUr2uqmzEV0",
        "outputId": "eed5cd76-de7a-4a19-fea9-052eac9fef94"
      },
      "outputs": [
        {
          "name": "stdout",
          "output_type": "stream",
          "text": [
            "Ingrese una palabra:reconocer\n",
            "Es palindrome\n"
          ]
        }
      ],
      "source": [
        "#Escribir que un programa determine si una palabra es palindrome\n",
        "\n",
        "class Palindrome:\n",
        "  def determinar_palindrome(self, palabra):\n",
        "    return palabra == palabra[::-1]\n",
        "\n",
        "obj_palindrome = Palindrome()\n",
        "palabra = input(\"Ingrese una palabra:\")\n",
        "if obj_palindrome.determinar_palindrome(palabra):\n",
        "  print(\"Es palindrome\")\n",
        "else:\n",
        "  print(\"No es palindrome\")"
      ]
    },
    {
      "cell_type": "code",
      "execution_count": null,
      "metadata": {
        "colab": {
          "base_uri": "https://localhost:8080/"
        },
        "id": "_5nu1c8wkXiz",
        "outputId": "271a1c63-0144-417b-e1c3-84b5ccb05223"
      },
      "outputs": [
        {
          "name": "stdout",
          "output_type": "stream",
          "text": [
            "\n",
            "Opciones:\n",
            "1. Escribir palindromos\n",
            "2. Salir\n",
            "Opción no válida. Inténtalo de nuevo.\n",
            "\n",
            "Opciones:\n",
            "1. Escribir palindromos\n",
            "2. Salir\n"
          ]
        }
      ],
      "source": [
        "def main():\n",
        "  while True:\n",
        "\n",
        "    print(\"\\nOpciones:\")\n",
        "    print(\"1. Escribir palindromos\")\n",
        "    print(\"2. Salir\")\n",
        "\n",
        "    opcion = input(\"Elige una opción (1-2): \")\n",
        "\n",
        "    if opcion == \"1\":\n",
        "      class Palindrome:\n",
        "       def determinar_palindrome(self, palabra):\n",
        "        return palabra == palabra[::-1]\n",
        "\n",
        "      obj_palindrome = Palindrome()\n",
        "      palabra = input(\"Ingrese una palabra:\")\n",
        "      if obj_palindrome.determinar_palindrome(palabra):\n",
        "        print(\"Es palindrome\")\n",
        "      else:\n",
        "        print(\"No es palindrome\")\n",
        "\n",
        "    elif opcion==\"2\":\n",
        "      print(\"¡Hasta luego!\")\n",
        "      break\n",
        "\n",
        "    else:\n",
        "            print(\"Opción no válida. Inténtalo de nuevo.\")\n",
        "\n",
        "\n",
        "if __name__ == \"__main__\":\n",
        "    main()"
      ]
    },
    {
      "cell_type": "markdown",
      "metadata": {
        "id": "Ot8mZh7I3uxw"
      },
      "source": [
        "Parcial 1_"
      ]
    },
    {
      "cell_type": "markdown",
      "metadata": {
        "id": "0TStFtO7J-55"
      },
      "source": [
        "1. Desarrolle un algoritmo en Python que calcule el IMPUESTO A LAS\n",
        "ACTIVIDADES ECONOMICAS de acuerdo con la siguiente tabla. El monto\n",
        "de la actividad económica debe ser introducido por el usuario."
      ]
    },
    {
      "cell_type": "code",
      "execution_count": null,
      "metadata": {
        "colab": {
          "base_uri": "https://localhost:8080/"
        },
        "id": "r2TPHtZzX1A1",
        "outputId": "7167b5d1-aaf8-4673-8c32-f9fdc4216d4c"
      },
      "outputs": [
        {
          "name": "stdout",
          "output_type": "stream",
          "text": [
            "================  IMPUESTO DE ACTIVIDADES ECONOMICAS  ================\n",
            "\n",
            "Introduce el monto de la actividad económica: 0.01\n",
            "Por favor, introduce un número válido.\n"
          ]
        }
      ],
      "source": [
        "print(\"=\"*16,\" IMPUESTO DE ACTIVIDADES ECONOMICAS \",\"=\"*16)\n",
        "\n",
        "def calcular_impuesto(monto):\n",
        "    rangos = [\n",
        "        (0.01, 500, 1.5, 0),\n",
        "        (500.01, 1000, 1.5, 3),\n",
        "        (1000.01, 2000, 3, 3),\n",
        "        (2000.01, 3000, 6, 3),\n",
        "        (3000.01, 6000, 9, 2),\n",
        "        (8000.01, 18000, 15, 2),\n",
        "        (18000.01, 30000, 39, 2),\n",
        "        (30000.01, 60000, 63, 1),\n",
        "        (60000.01, 100000, 93, 0.8),\n",
        "        (100000.01, 200000, 125, 0.7),\n",
        "        (200000.01, 300000, 195, 0.6),\n",
        "        (300000.01, 400000, 255, 0.45)\n",
        "    ]\n",
        "\n",
        "    for rango in rangos:\n",
        "        limite_inferior, limite_superior, precio_adicional, porcentaje = rango\n",
        "        if limite_inferior <= monto <= limite_superior:\n",
        "            if monto == limite_inferior:\n",
        "                return precio_adicional\n",
        "            else:\n",
        "                impuesto = precio_adicional + ((monto - limite_inferior) * porcentaje / 100)\n",
        "                return impuesto\n",
        "\n",
        "    return \"Monto fuera del rango permitido.\"\n",
        "\n",
        "def main(): # repetir codigo\n",
        "    try:\n",
        "        monto = float(input(f\"\\nIntroduce el monto de la actividad económica: \"))\n",
        "        if monto < 0:\n",
        "            print(\"El monto debe ser positivo.\")\n",
        "            return\n",
        "\n",
        "        impuesto = calcular_impuesto(monto)\n",
        "        print(f\"El impuesto a pagar es: {impuesto:.2f}\")\n",
        "\n",
        "    except ValueError:\n",
        "        print(\"Por favor, introduce un número válido.\")\n",
        "\n",
        "if __name__ == \"__main__\":\n",
        "    main()\n"
      ]
    },
    {
      "cell_type": "markdown",
      "metadata": {
        "id": "x-tCZOvYMuKU"
      },
      "source": [
        "2. Desarrolle el conversor de Área (Superficie) haciendo uso de los\n",
        "diccionarios y las funciones de usuario en Python que contenga las\n",
        "siguientes opciones:"
      ]
    },
    {
      "cell_type": "code",
      "execution_count": null,
      "metadata": {
        "colab": {
          "base_uri": "https://localhost:8080/"
        },
        "id": "F4ZBroJ7KroM",
        "outputId": "33d27598-5388-4313-c1a9-38584b342137"
      },
      "outputs": [
        {
          "name": "stdout",
          "output_type": "stream",
          "text": [
            "Ingrese el valor a convertir: 1\n",
            "Ingrese la unidad de origen: vara cuadrada\n",
            "Ingrese la unidad de destino: pie cuadrado\n",
            "1.0 vara cuadrada son 9.0 pie cuadrado\n"
          ]
        }
      ],
      "source": [
        "#Area\n",
        "import re\n",
        "def convertir_area(valor, unidad_origen, unidad_destino):\n",
        "    unidades_de_area = {\n",
        "        'pie cuadrado': 1,\n",
        "        'vara cuadrada': 0.1111,\n",
        "        'yarda cuadrada': 0.111111,\n",
        "        'metro cuadrado': 0.092903,\n",
        "        'tareas':  0.00014774656489,\n",
        "        'manzanas': 75.207,\n",
        "        'hectarea': 0.00001317\n",
        "    }\n",
        "\n",
        "    try:\n",
        "        tasa_origen_a_destino = unidades_de_area[unidad_destino] / unidades_de_area[unidad_origen]\n",
        "        resultado = valor * tasa_origen_a_destino\n",
        "        return round(resultado, 2)\n",
        "    except KeyError:\n",
        "        raise ValueError(\"Unidad de origen o destino no reconocida.\")\n",
        "\n",
        "def es_flotante(valor):\n",
        "    try:\n",
        "        float(valor)\n",
        "        return True\n",
        "    except ValueError:\n",
        "        return False\n",
        "\n",
        "def es_alfabetico(texto):\n",
        "    return bool(re.match(\"^[a-zA-Z\\s]+$\", texto))\n",
        "\n",
        "try:\n",
        "    # Validación del valor como número flotante\n",
        "    valor_input = input(\"Ingrese el valor a convertir: \")\n",
        "    if not es_flotante(valor_input):\n",
        "        raise ValueError(\"Debe ingresar un número válido.\")\n",
        "    valor = float(valor_input)\n",
        "\n",
        "    # Validación de las unidades como texto sin números\n",
        "    unidad_origen = input(\"Ingrese la unidad de origen: \").strip().lower()\n",
        "    if not es_alfabetico(unidad_origen):\n",
        "        raise ValueError(\"La unidad de origen debe contener solo letras.\")\n",
        "\n",
        "    unidad_destino = input(\"Ingrese la unidad de destino: \").strip().lower()\n",
        "    if not es_alfabetico(unidad_destino):\n",
        "        raise ValueError(\"La unidad de destino debe contener solo letras.\")\n",
        "\n",
        "    resultado = convertir_area(valor, unidad_origen, unidad_destino)\n",
        "    print(f\"{valor} {unidad_origen} son {resultado} {unidad_destino}\")\n",
        "\n",
        "except ValueError as e:\n",
        "    print(f\"Error: {e}\")"
      ]
    },
    {
      "cell_type": "markdown",
      "metadata": {
        "id": "S-3gIijzO0MU"
      },
      "source": [
        "3. Desarrolle un programa en Python que simule a un cajero automático.\n",
        "Haga uso de las estructuras de control. (30%)\n",
        "Eje. Ingrese la cantidad a retirar: 199.89\n",
        "9 billetes de a 20\n",
        "1 billete de a 10\n",
        "1 billete de a 5\n",
        "4 billetes de a 1\n",
        "3 monedas de 0.25 ctvs.\n"
      ]
    },
    {
      "cell_type": "code",
      "execution_count": 2,
      "metadata": {
        "colab": {
          "base_uri": "https://localhost:8080/"
        },
        "id": "PIZgIHsba1Lx",
        "outputId": "1d0d6bcb-491c-46ce-9d3b-f1eda3e4ad2a"
      },
      "outputs": [
        {
          "name": "stdout",
          "output_type": "stream",
          "text": [
            "---------------- CAJERO AUTOMATICO ----------------\n",
            "Bienvenido!!!\n"
          ]
        },
        {
          "name": "stdout",
          "output_type": "stream",
          "text": [
            "PIN incorrecto. Te quedan 4 intentos.\n",
            "PIN incorrecto. Te quedan 3 intentos.\n",
            "PIN incorrecto. Te quedan 2 intentos.\n",
            "PIN incorrecto. Te quedan 1 intentos.\n",
            "PIN incorrecto. Te quedan 0 intentos.\n",
            "Número máximo de intentos alcanzado. Inténtelo de nuevo más tarde.\n",
            "Fin del programa.\n"
          ]
        }
      ],
      "source": [
        "print(\"-\"*16, \"CAJERO AUTOMATICO\", \"-\"*16)\n",
        "print(\"Bienvenido!!!\")\n",
        "\n",
        "continuar = \"s\"\n",
        "while continuar.lower() == \"s\":\n",
        "\n",
        "    # Definición de la base de datos de usuarios\n",
        "    usuarios = {\n",
        "        \"1234\": {\"nombre\": \"Rachell Ramirez\", \"saldo\": 2000},\n",
        "        \"1233\": {\"nombre\": \"Nacho Alegria\", \"saldo\": 2600},\n",
        "\n",
        "    }\n",
        "\n",
        "    def mostrar_menu():\n",
        "        print(\"\\n** MENÚ DEL CAJERO AUTOMÁTICO **\")\n",
        "        print(\"1. Consultar saldo\")\n",
        "        print(\"2. Retirar dinero\")\n",
        "        print(\"3. Depositar dinero\")\n",
        "        print(\"4. Salir\")\n",
        "\n",
        "    def consultar_saldo(usuario):\n",
        "        print(f\"Tu saldo actual es: ${usuarios[usuario]['saldo']}\")\n",
        "\n",
        "    def retirar_dinero(usuario):\n",
        "        monto = float(input(\"Ingrese el monto a retirar: $\"))\n",
        "        if monto <= usuarios[usuario]['saldo']:\n",
        "            usuarios[usuario]['saldo'] -= monto\n",
        "            print(f\"Retiraste ${monto}. Tu saldo actual es: ${usuarios[usuario]['saldo']}\")\n",
        "        else:\n",
        "            print(\"Saldo insuficiente\")\n",
        "\n",
        "    def depositar_dinero(usuario):\n",
        "        monto = float(input(\"Ingrese el monto a depositar: $\"))\n",
        "        usuarios[usuario]['saldo'] += monto\n",
        "        print(f\"Depositaste ${monto}. Tu saldo actual es: ${usuarios[usuario]['saldo']}\")\n",
        "\n",
        "    def iniciar_sesion():\n",
        "        intentos = 5\n",
        "        while intentos > 0:\n",
        "            pin = input(\"Ingrese su PIN: \")\n",
        "            if pin in usuarios:\n",
        "                return pin\n",
        "            else:\n",
        "                intentos -= 1\n",
        "                print(f\"PIN incorrecto. Te quedan {intentos} intentos.\")\n",
        "        print(\"Número máximo de intentos alcanzado. Inténtelo de nuevo más tarde.\")\n",
        "        return None\n",
        "\n",
        "    def cajero_automatico():\n",
        "        usuario = iniciar_sesion()\n",
        "        if usuario:\n",
        "            while True:\n",
        "                mostrar_menu()\n",
        "                opcion = input(\"Seleccione una opción: \")\n",
        "                if opcion == \"1\":\n",
        "                    consultar_saldo(usuario)\n",
        "                elif opcion == \"2\":\n",
        "                    retirar_dinero(usuario)\n",
        "                elif opcion == \"3\":\n",
        "                    depositar_dinero(usuario)\n",
        "                elif opcion == \"4\":\n",
        "                    print(\"Gracias por usar el cajero automático. ¡Hasta luego!\")\n",
        "                    break\n",
        "                else:\n",
        "                    print(\"Opción no válida. Por favor, seleccione una opción del menú.\")\n",
        "\n",
        "    # Ejecutar el cajero automático\n",
        "    cajero_automatico()\n",
        "\n",
        "    # Preguntar al usuario si desea continuar\n",
        "    continuar = input(\"¿Desea realizar otra operación? (s/n): \").strip().lower()\n",
        "\n",
        "print(\"Fin del programa.\")\n"
      ]
    }
  ],
  "metadata": {
    "colab": {
      "authorship_tag": "ABX9TyOQFNvRGlhXirN1FU5CNDQm",
      "include_colab_link": true,
      "provenance": []
    },
    "kernelspec": {
      "display_name": "Python 3",
      "name": "python3"
    },
    "language_info": {
      "codemirror_mode": {
        "name": "ipython",
        "version": 3
      },
      "file_extension": ".py",
      "mimetype": "text/x-python",
      "name": "python",
      "nbconvert_exporter": "python",
      "pygments_lexer": "ipython3",
      "version": "3.11.4"
    }
  },
  "nbformat": 4,
  "nbformat_minor": 0
}
