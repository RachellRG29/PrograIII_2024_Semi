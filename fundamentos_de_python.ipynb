{
  "nbformat": 4,
  "nbformat_minor": 0,
  "metadata": {
    "colab": {
      "provenance": [],
      "authorship_tag": "ABX9TyOSZbxRZs8yw1HI/mqDLox3",
      "include_colab_link": true
    },
    "kernelspec": {
      "name": "python3",
      "display_name": "Python 3"
    },
    "language_info": {
      "name": "python"
    }
  },
  "cells": [
    {
      "cell_type": "markdown",
      "metadata": {
        "id": "view-in-github",
        "colab_type": "text"
      },
      "source": [
        "<a href=\"https://colab.research.google.com/github/RachellRG29/PrograIII_2024_Semi/blob/main/fundamentos_de_python.ipynb\" target=\"_parent\"><img src=\"https://colab.research.google.com/assets/colab-badge.svg\" alt=\"Open In Colab\"/></a>"
      ]
    },
    {
      "cell_type": "markdown",
      "source": [
        "Pruebas Python"
      ],
      "metadata": {
        "id": "3r4XivPQ9h0L"
      }
    },
    {
      "cell_type": "code",
      "execution_count": null,
      "metadata": {
        "id": "1FNNA02gkFMn",
        "outputId": "cc9af1d0-408b-4850-843a-085ab0f68fe1",
        "colab": {
          "base_uri": "https://localhost:8080/"
        },
        "collapsed": true
      },
      "outputs": [
        {
          "output_type": "stream",
          "name": "stdout",
          "text": [
            "hola mundo\n",
            "<class 'str'>\n",
            "<class 'int'>\n",
            "Hola  Cindy Ramirez , iniciales: C R\n"
          ]
        }
      ],
      "source": [
        "print(\"hola mundo\")\n",
        "print(type(\"esto es texto\"))\n",
        "print(type(2))\n",
        "\n",
        "nombre = \"Cindy Ramirez\"\n",
        "print(\"Hola \",nombre, \", iniciales:\", nombre[0], nombre[6])"
      ]
    },
    {
      "cell_type": "markdown",
      "source": [
        "Ejercicios, crear un programa quen python que sume 2 numeros"
      ],
      "metadata": {
        "id": "E3OC6-An9fwK"
      }
    },
    {
      "cell_type": "code",
      "source": [
        "num1=5\n",
        "num2=9.5\n",
        "resp= num1+num2\n",
        "print(\"la suma es \",resp)\n"
      ],
      "metadata": {
        "colab": {
          "base_uri": "https://localhost:8080/"
        },
        "collapsed": true,
        "id": "gEYDSK4c9a7L",
        "outputId": "66f1f314-ddc3-447b-e864-35281e9ee05b"
      },
      "execution_count": null,
      "outputs": [
        {
          "output_type": "stream",
          "name": "stdout",
          "text": [
            "la suma es  14.5\n"
          ]
        }
      ]
    },
    {
      "cell_type": "markdown",
      "source": [
        "Ejercicios, crear un programa quen python que sume 2 numeros, introducidos por el usuario"
      ],
      "metadata": {
        "id": "XJnNpDy8_NNX"
      }
    },
    {
      "cell_type": "code",
      "source": [
        "print(\"Ingrese el numero 1: \")\n",
        "num1 = int(input())\n",
        "\n",
        "print(\"Ingrese el numero 2: \")\n",
        "num2 = float(input())\n",
        "resp = num1+num2\n",
        "print(\"La suma es: \",resp)"
      ],
      "metadata": {
        "colab": {
          "base_uri": "https://localhost:8080/"
        },
        "collapsed": true,
        "id": "N_9SGQ-x_RZO",
        "outputId": "d8331482-0251-4bfe-8d3c-4ed837ae8333"
      },
      "execution_count": null,
      "outputs": [
        {
          "output_type": "stream",
          "name": "stdout",
          "text": [
            "Ingrese el numero 1: \n",
            "2\n",
            "Ingrese el numero 2: \n",
            "9.129\n",
            "La suma es:  11.129\n"
          ]
        }
      ]
    },
    {
      "cell_type": "markdown",
      "source": [
        "Cadenas"
      ],
      "metadata": {
        "id": "MeoYzEUQB_g5"
      }
    },
    {
      "cell_type": "code",
      "source": [
        "#Tipos de datos\n",
        "nombre=\"Cindy Ramirez\"\n",
        "print(nombre[0:5], nombre[:5], nombre[-7:-3], nombre[5:len(nombre)])\n",
        "\n",
        "estado = False\n",
        "print(estado)\n",
        "\n",
        "num1=5\n",
        "num2=5.9\n",
        "\n",
        "print(type(nombre), type(num1), type(num2), type(estado), type(\"Texto\") )"
      ],
      "metadata": {
        "colab": {
          "base_uri": "https://localhost:8080/"
        },
        "id": "OccU4dj1CQNN",
        "outputId": "87aea007-f03a-4ab2-f7b4-75fbcd9026d6"
      },
      "execution_count": null,
      "outputs": [
        {
          "output_type": "stream",
          "name": "stdout",
          "text": [
            "Cindy Cindy Rami  Ramirez\n",
            "False\n",
            "<class 'str'> <class 'int'> <class 'float'> <class 'bool'> <class 'str'>\n"
          ]
        }
      ]
    },
    {
      "cell_type": "markdown",
      "source": [
        "Ejercicio: cree un programa en python que lea yb numero y determine si es par o impar"
      ],
      "metadata": {
        "id": "pA7ishYjEeh7"
      }
    },
    {
      "cell_type": "code",
      "source": [
        "num = int(input(\"Ingrese un numero:\"))\n",
        "if num % 2 ==0:\n",
        "  print(\"El numero es par \",num)\n",
        "else:\n",
        "  print(\"El numero es inpar \", num)"
      ],
      "metadata": {
        "colab": {
          "base_uri": "https://localhost:8080/"
        },
        "id": "JVr5IWYpEq8z",
        "outputId": "cbafe91f-ee80-40d5-d8b4-74b95a5ee4e6"
      },
      "execution_count": null,
      "outputs": [
        {
          "output_type": "stream",
          "name": "stdout",
          "text": [
            "Ingrese un numero:8\n",
            "El numero es par  8\n"
          ]
        }
      ]
    },
    {
      "cell_type": "code",
      "source": [
        "nombre = input(\"Nombre: \")\n",
        "print(nombre)\n",
        "print(nombre[-4])"
      ],
      "metadata": {
        "colab": {
          "base_uri": "https://localhost:8080/"
        },
        "id": "JFepPskLYe37",
        "outputId": "f47b47ae-de22-4a16-9cc3-6f11b3b68d9d"
      },
      "execution_count": null,
      "outputs": [
        {
          "output_type": "stream",
          "name": "stdout",
          "text": [
            "Nombre: Cindy\n",
            "Cindy\n",
            "i\n"
          ]
        }
      ]
    },
    {
      "cell_type": "code",
      "source": [
        "def suma(num1, num2):\n",
        "  return num1+num2\n",
        "\n",
        "num1 = float(input(\"Num 1: \"))\n",
        "num2 = float(input(\"Num 2: \"))\n",
        "\n",
        "resp = suma(num1,num2)\n",
        "print(\"la suma es: \",resp)\n"
      ],
      "metadata": {
        "colab": {
          "base_uri": "https://localhost:8080/"
        },
        "collapsed": true,
        "id": "PWRFUGSXZVEr",
        "outputId": "158ad23c-f7be-4081-e8cd-db41f1071bdc"
      },
      "execution_count": null,
      "outputs": [
        {
          "output_type": "stream",
          "name": "stdout",
          "text": [
            "Num 1: 1\n",
            "Num 2: 5.9\n",
            "la suma es:  6.9\n"
          ]
        }
      ]
    },
    {
      "cell_type": "markdown",
      "source": [
        "Ejercicio: Convertir grados celsius a farenheit, usando funciones de usuario."
      ],
      "metadata": {
        "id": "MQZiAlYQbPQq"
      }
    },
    {
      "cell_type": "code",
      "source": [
        "def convertir_cf(c):\n",
        "  return c*1.8 + 32\n",
        "  #return c*9/5 + 32\n",
        "\n",
        "c= float(input(\"Celcius: \"))\n",
        "print(\"Farenheit: \", convertir_cf(c))"
      ],
      "metadata": {
        "colab": {
          "base_uri": "https://localhost:8080/"
        },
        "id": "-z_JOEXwbXuh",
        "outputId": "94a228c5-6362-46b5-add0-8256b2287be5"
      },
      "execution_count": null,
      "outputs": [
        {
          "output_type": "stream",
          "name": "stdout",
          "text": [
            "Celcius: 20\n",
            "Farenheit:  68.0\n"
          ]
        }
      ]
    },
    {
      "cell_type": "code",
      "source": [
        "#Determina si un numero es par o inpar\n",
        "def parImpar(num):\n",
        "  if(num % 2==0):\n",
        "    return \"par\"\n",
        "  return \"impar\"\n",
        "\n",
        "num= float(input(\"Num: \"))\n",
        "print(\"El numero \", num, \"es: \",parImpar(num))"
      ],
      "metadata": {
        "colab": {
          "base_uri": "https://localhost:8080/"
        },
        "id": "ynzKhvaxeuYo",
        "outputId": "c3420d15-b20f-4b8d-ca45-5cbece4149bd"
      },
      "execution_count": null,
      "outputs": [
        {
          "output_type": "stream",
          "name": "stdout",
          "text": [
            "Num: 9\n",
            "El numero  9.0 es:  impar\n"
          ]
        }
      ]
    },
    {
      "cell_type": "code",
      "source": [
        "def sueldo(numHrs, valorxHrs):\n",
        "  sueldo = numHrs * valorxHrs * 30\n",
        "  if(numHrs>8):\n",
        "    sueldo = sueldo + (numHrs-8) * valorxHrs * 30\n",
        "  return sueldo\n",
        "\n",
        "\n",
        "numHrs = int(input(\"Horas trabajadas: \"))\n",
        "valorxHrs = float(input(\"Valor de horas: \"))\n",
        "\n",
        "print(\"Sueldo del trabajador:\", sueldo(numHrs, valorxHrs))"
      ],
      "metadata": {
        "colab": {
          "base_uri": "https://localhost:8080/"
        },
        "id": "howjgygshpdm",
        "outputId": "29d30270-5a0c-4363-e06c-dcc90200773a"
      },
      "execution_count": null,
      "outputs": [
        {
          "output_type": "stream",
          "name": "stdout",
          "text": [
            "Horas trabajadas: 10\n",
            "Valor de horas: 1.5\n",
            "Sueldo del trabajador: 540.0\n"
          ]
        }
      ]
    },
    {
      "cell_type": "markdown",
      "source": [
        "Ejercicio calcular el sueldo de un trabajador"
      ],
      "metadata": {
        "id": "040cJEtOhpG3"
      }
    },
    {
      "cell_type": "markdown",
      "source": [
        "TAREA(Miercoles)\n",
        "\n",
        "\n",
        "1.   Convertir grados farenheit a celsius\n",
        "2.   Convertir [Farenheit y celsius] a kelvin\n",
        "\n"
      ],
      "metadata": {
        "id": "q1uqY5tHirh1"
      }
    },
    {
      "cell_type": "markdown",
      "source": [
        "Convertir grados farenheit a celsius"
      ],
      "metadata": {
        "id": "4Zw7kIJFchvM"
      }
    },
    {
      "cell_type": "code",
      "source": [
        "def convertir_fc(f): #farenheit a celcius\n",
        "  return (f-32) * 5/9\n",
        "\n",
        "f = float(input(\"Farenheit: \"))\n",
        "print(\"Grados Celcius: \", convertir_fc(f))\n"
      ],
      "metadata": {
        "id": "_nJmwL9Nl3-s",
        "colab": {
          "base_uri": "https://localhost:8080/"
        },
        "outputId": "d4da1da1-a4c0-4a45-9973-69e0f2b7cfca"
      },
      "execution_count": null,
      "outputs": [
        {
          "output_type": "stream",
          "name": "stdout",
          "text": [
            "Farenheit: 100.4\n",
            "Grados Celcius:  38.0\n"
          ]
        }
      ]
    },
    {
      "cell_type": "markdown",
      "source": [
        "Convertir [Farenheit y celsius] a kelvin"
      ],
      "metadata": {
        "id": "4tJ2853wex4z"
      }
    },
    {
      "cell_type": "code",
      "source": [
        "def convertir_fk(f): #farenheit a kelvin\n",
        "  return (f + 459.67)/1.8\n",
        "\n",
        "f = float(input(\"Farenheit: \"))\n",
        "print(\"Grados Kelvin convertidos: \", convertir_fk(f))\n",
        "print(\"\")\n",
        "\n",
        "def convertir_ck(c): #celcius a kelvin\n",
        "  return (c+273.15)\n",
        "\n",
        "c = float(input(\"Celcius: \"))\n",
        "print(\"Grados Kelvin: \", convertir_ck(c))"
      ],
      "metadata": {
        "colab": {
          "base_uri": "https://localhost:8080/"
        },
        "id": "5FZsub3je0VS",
        "outputId": "66f80f37-7af4-434d-ba6c-b9a111d0823b"
      },
      "execution_count": null,
      "outputs": [
        {
          "output_type": "stream",
          "name": "stdout",
          "text": [
            "Farenheit: 32\n",
            "Grados Kelvin convertidos:  273.15\n",
            "\n",
            "Celcius: 32\n",
            "Grados Kelvin:  305.15\n"
          ]
        }
      ]
    },
    {
      "cell_type": "markdown",
      "source": [
        "Clase 24-07-2024\n",
        "Ejercicio: elevar un nmero al cuadrado\n"
      ],
      "metadata": {
        "id": "V0PBq_1p4LNH"
      }
    },
    {
      "cell_type": "code",
      "source": [
        "def elevarCuadrado(base, exponente):\n",
        "  return base**exponente\n",
        "\n",
        "#exponente=int(input(\"Exponente \"))\n",
        "\n",
        "base = int(input(\"Numero \"))\n",
        "print(\"Elevado: \",elevarCuadrado(base,3))"
      ],
      "metadata": {
        "colab": {
          "base_uri": "https://localhost:8080/"
        },
        "id": "eoYudy7C6Ke0",
        "outputId": "5e83f636-1a73-496e-b1ac-a2df18d20acc"
      },
      "execution_count": 21,
      "outputs": [
        {
          "output_type": "stream",
          "name": "stdout",
          "text": [
            "Numero 3\n",
            "Elevado:  27\n"
          ]
        }
      ]
    },
    {
      "cell_type": "markdown",
      "source": [
        "Usando funciones lambda"
      ],
      "metadata": {
        "id": "Gq38HluG8XJY"
      }
    },
    {
      "cell_type": "code",
      "source": [
        "elevarCuadradoLambda = lambda base, exponente : base**exponente\n",
        "valor = int(input(\"Num: \"))\n",
        "print(\"Cuadrado: \", elevarCuadradoLambda(valor,2))"
      ],
      "metadata": {
        "colab": {
          "base_uri": "https://localhost:8080/"
        },
        "id": "HLDf1DKW8Z_A",
        "outputId": "6793f5a8-5f0f-489f-d806-efb9e64f2e66"
      },
      "execution_count": 16,
      "outputs": [
        {
          "output_type": "stream",
          "name": "stdout",
          "text": [
            "Num: 3\n",
            "Cuadrado:  9\n"
          ]
        }
      ]
    },
    {
      "cell_type": "markdown",
      "source": [
        "Funcion lambda, con series , listas , matrices"
      ],
      "metadata": {
        "id": "FufhoWqP9oZe"
      }
    },
    {
      "cell_type": "code",
      "source": [
        "serie = [5,4,3,2,6,7]\n",
        "resp = map(lambda x: x**2, serie)\n",
        "print(\"Valores al cuadrado:\",(list(resp)))\n",
        "\n",
        "#resp2= map(elevarCuadrado, serie)\n",
        "#print(list(resp2))"
      ],
      "metadata": {
        "colab": {
          "base_uri": "https://localhost:8080/"
        },
        "id": "-qKcz3GV_kEb",
        "outputId": "ca37bfa3-0d48-454a-86cb-8d4f92f78f67"
      },
      "execution_count": 23,
      "outputs": [
        {
          "output_type": "stream",
          "name": "stdout",
          "text": [
            "Valores al cuadrado: [25, 16, 9, 4, 36, 49]\n"
          ]
        }
      ]
    },
    {
      "cell_type": "markdown",
      "source": [
        "Ejercicio: Obtener la raiz cuadrada de una serie de numeros fijos"
      ],
      "metadata": {
        "id": "3kOdgKSFC-bW"
      }
    },
    {
      "cell_type": "code",
      "source": [
        "#from math import sqrt\n",
        "\n",
        "#series = [5,4,3,2,6,7]\n",
        "series = [16,9, 81,144,6,7]\n",
        "resps = map(lambda x:x** 0.5, series)\n",
        "print(list(resps))"
      ],
      "metadata": {
        "colab": {
          "base_uri": "https://localhost:8080/"
        },
        "id": "t_DpF2axA9bp",
        "outputId": "eb2bf2f8-9108-4e5a-ebf1-732f54136b6f"
      },
      "execution_count": 39,
      "outputs": [
        {
          "output_type": "stream",
          "name": "stdout",
          "text": [
            "[4.0, 3.0, 9.0, 12.0, 2.449489742783178, 2.6457513110645907]\n"
          ]
        }
      ]
    }
  ]
}