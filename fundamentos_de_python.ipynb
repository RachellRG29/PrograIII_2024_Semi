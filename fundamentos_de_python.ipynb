{
  "nbformat": 4,
  "nbformat_minor": 0,
  "metadata": {
    "colab": {
      "provenance": [],
      "authorship_tag": "ABX9TyOLeSHrzOwFR8DpxlS/dMUi",
      "include_colab_link": true
    },
    "kernelspec": {
      "name": "python3",
      "display_name": "Python 3"
    },
    "language_info": {
      "name": "python"
    }
  },
  "cells": [
    {
      "cell_type": "markdown",
      "metadata": {
        "id": "view-in-github",
        "colab_type": "text"
      },
      "source": [
        "<a href=\"https://colab.research.google.com/github/RachellRG29/PrograIII_2024_Semi/blob/main/fundamentos_de_python.ipynb\" target=\"_parent\"><img src=\"https://colab.research.google.com/assets/colab-badge.svg\" alt=\"Open In Colab\"/></a>"
      ]
    },
    {
      "cell_type": "markdown",
      "source": [
        "Pruebas Python"
      ],
      "metadata": {
        "id": "3r4XivPQ9h0L"
      }
    },
    {
      "cell_type": "code",
      "execution_count": null,
      "metadata": {
        "id": "1FNNA02gkFMn",
        "outputId": "cc9af1d0-408b-4850-843a-085ab0f68fe1",
        "colab": {
          "base_uri": "https://localhost:8080/"
        },
        "collapsed": true
      },
      "outputs": [
        {
          "output_type": "stream",
          "name": "stdout",
          "text": [
            "hola mundo\n",
            "<class 'str'>\n",
            "<class 'int'>\n",
            "Hola  Cindy Ramirez , iniciales: C R\n"
          ]
        }
      ],
      "source": [
        "print(\"hola mundo\")\n",
        "print(type(\"esto es texto\"))\n",
        "print(type(2))\n",
        "\n",
        "nombre = \"Cindy Ramirez\"\n",
        "print(\"Hola \",nombre, \", iniciales:\", nombre[0], nombre[6])"
      ]
    },
    {
      "cell_type": "markdown",
      "source": [
        "Ejercicios, crear un programa quen python que sume 2 numeros"
      ],
      "metadata": {
        "id": "E3OC6-An9fwK"
      }
    },
    {
      "cell_type": "code",
      "source": [
        "num1=5\n",
        "num2=9.5\n",
        "resp= num1+num2\n",
        "print(\"la suma es \",resp)\n"
      ],
      "metadata": {
        "colab": {
          "base_uri": "https://localhost:8080/"
        },
        "collapsed": true,
        "id": "gEYDSK4c9a7L",
        "outputId": "66f1f314-ddc3-447b-e864-35281e9ee05b"
      },
      "execution_count": null,
      "outputs": [
        {
          "output_type": "stream",
          "name": "stdout",
          "text": [
            "la suma es  14.5\n"
          ]
        }
      ]
    },
    {
      "cell_type": "markdown",
      "source": [
        "Ejercicios, crear un programa quen python que sume 2 numeros, introducidos por el usuario"
      ],
      "metadata": {
        "id": "XJnNpDy8_NNX"
      }
    },
    {
      "cell_type": "code",
      "source": [
        "print(\"Ingrese el numero 1: \")\n",
        "num1 = int(input())\n",
        "\n",
        "print(\"Ingrese el numero 2: \")\n",
        "num2 = float(input())\n",
        "resp = num1+num2\n",
        "print(\"La suma es: \",resp)"
      ],
      "metadata": {
        "colab": {
          "base_uri": "https://localhost:8080/"
        },
        "collapsed": true,
        "id": "N_9SGQ-x_RZO",
        "outputId": "d8331482-0251-4bfe-8d3c-4ed837ae8333"
      },
      "execution_count": null,
      "outputs": [
        {
          "output_type": "stream",
          "name": "stdout",
          "text": [
            "Ingrese el numero 1: \n",
            "2\n",
            "Ingrese el numero 2: \n",
            "9.129\n",
            "La suma es:  11.129\n"
          ]
        }
      ]
    },
    {
      "cell_type": "markdown",
      "source": [
        "Cadenas"
      ],
      "metadata": {
        "id": "MeoYzEUQB_g5"
      }
    },
    {
      "cell_type": "code",
      "source": [
        "#Tipos de datos\n",
        "nombre=\"Cindy Ramirez\"\n",
        "print(nombre[0:5], nombre[:5], nombre[-7:-3], nombre[5:len(nombre)])\n",
        "\n",
        "estado = False\n",
        "print(estado)\n",
        "\n",
        "num1=5\n",
        "num2=5.9\n",
        "\n",
        "print(type(nombre), type(num1), type(num2), type(estado), type(\"Texto\") )"
      ],
      "metadata": {
        "colab": {
          "base_uri": "https://localhost:8080/"
        },
        "id": "OccU4dj1CQNN",
        "outputId": "87aea007-f03a-4ab2-f7b4-75fbcd9026d6"
      },
      "execution_count": null,
      "outputs": [
        {
          "output_type": "stream",
          "name": "stdout",
          "text": [
            "Cindy Cindy Rami  Ramirez\n",
            "False\n",
            "<class 'str'> <class 'int'> <class 'float'> <class 'bool'> <class 'str'>\n"
          ]
        }
      ]
    },
    {
      "cell_type": "markdown",
      "source": [
        "Ejercicio: cree un programa en python que lea yb numero y determine si es par o impar"
      ],
      "metadata": {
        "id": "pA7ishYjEeh7"
      }
    },
    {
      "cell_type": "code",
      "source": [
        "num = int(input(\"Ingrese un numero:\"))\n",
        "if num % 2 ==0:\n",
        "  print(\"El numero es par \",num)\n",
        "else:\n",
        "  print(\"El numero es inpar \", num)"
      ],
      "metadata": {
        "colab": {
          "base_uri": "https://localhost:8080/"
        },
        "id": "JVr5IWYpEq8z",
        "outputId": "cbafe91f-ee80-40d5-d8b4-74b95a5ee4e6"
      },
      "execution_count": null,
      "outputs": [
        {
          "output_type": "stream",
          "name": "stdout",
          "text": [
            "Ingrese un numero:8\n",
            "El numero es par  8\n"
          ]
        }
      ]
    },
    {
      "cell_type": "code",
      "source": [
        "nombre = input(\"Nombre: \")\n",
        "print(nombre)\n",
        "print(nombre[-4])"
      ],
      "metadata": {
        "colab": {
          "base_uri": "https://localhost:8080/"
        },
        "id": "JFepPskLYe37",
        "outputId": "f47b47ae-de22-4a16-9cc3-6f11b3b68d9d"
      },
      "execution_count": null,
      "outputs": [
        {
          "output_type": "stream",
          "name": "stdout",
          "text": [
            "Nombre: Cindy\n",
            "Cindy\n",
            "i\n"
          ]
        }
      ]
    },
    {
      "cell_type": "code",
      "source": [
        "def suma(num1, num2):\n",
        "  return num1+num2\n",
        "\n",
        "num1 = float(input(\"Num 1: \"))\n",
        "num2 = float(input(\"Num 2: \"))\n",
        "\n",
        "resp = suma(num1,num2)\n",
        "print(\"la suma es: \",resp)\n"
      ],
      "metadata": {
        "colab": {
          "base_uri": "https://localhost:8080/"
        },
        "collapsed": true,
        "id": "PWRFUGSXZVEr",
        "outputId": "158ad23c-f7be-4081-e8cd-db41f1071bdc"
      },
      "execution_count": null,
      "outputs": [
        {
          "output_type": "stream",
          "name": "stdout",
          "text": [
            "Num 1: 1\n",
            "Num 2: 5.9\n",
            "la suma es:  6.9\n"
          ]
        }
      ]
    },
    {
      "cell_type": "markdown",
      "source": [
        "Ejercicio: Convertir grados celsius a farenheit, usando funciones de usuario."
      ],
      "metadata": {
        "id": "MQZiAlYQbPQq"
      }
    },
    {
      "cell_type": "code",
      "source": [
        "def convertir_cf(c):\n",
        "  return c*1.8 + 32\n",
        "  #return c*9/5 + 32\n",
        "\n",
        "c= float(input(\"Celcius: \"))\n",
        "print(\"Farenheit: \", convertir_cf(c))"
      ],
      "metadata": {
        "colab": {
          "base_uri": "https://localhost:8080/"
        },
        "id": "-z_JOEXwbXuh",
        "outputId": "94a228c5-6362-46b5-add0-8256b2287be5"
      },
      "execution_count": null,
      "outputs": [
        {
          "output_type": "stream",
          "name": "stdout",
          "text": [
            "Celcius: 20\n",
            "Farenheit:  68.0\n"
          ]
        }
      ]
    },
    {
      "cell_type": "code",
      "source": [
        "#Determina si un numero es par o inpar\n",
        "def parImpar(num):\n",
        "  if(num % 2==0):\n",
        "    return \"par\"\n",
        "  return \"impar\"\n",
        "\n",
        "num= float(input(\"Num: \"))\n",
        "print(\"El numero \", num, \"es: \",parImpar(num))"
      ],
      "metadata": {
        "colab": {
          "base_uri": "https://localhost:8080/"
        },
        "id": "ynzKhvaxeuYo",
        "outputId": "c3420d15-b20f-4b8d-ca45-5cbece4149bd"
      },
      "execution_count": null,
      "outputs": [
        {
          "output_type": "stream",
          "name": "stdout",
          "text": [
            "Num: 9\n",
            "El numero  9.0 es:  impar\n"
          ]
        }
      ]
    },
    {
      "cell_type": "code",
      "source": [
        "def sueldo(numHrs, valorxHrs):\n",
        "  sueldo = numHrs * valorxHrs * 30\n",
        "  if(numHrs>8):\n",
        "    sueldo = sueldo + (numHrs-8) * valorxHrs * 30\n",
        "  return sueldo\n",
        "\n",
        "\n",
        "numHrs = int(input(\"Horas trabajadas: \"))\n",
        "valorxHrs = float(input(\"Valor de horas: \"))\n",
        "\n",
        "print(\"Sueldo del trabajador:\", sueldo(numHrs, valorxHrs))"
      ],
      "metadata": {
        "colab": {
          "base_uri": "https://localhost:8080/"
        },
        "id": "howjgygshpdm",
        "outputId": "29d30270-5a0c-4363-e06c-dcc90200773a"
      },
      "execution_count": null,
      "outputs": [
        {
          "output_type": "stream",
          "name": "stdout",
          "text": [
            "Horas trabajadas: 10\n",
            "Valor de horas: 1.5\n",
            "Sueldo del trabajador: 540.0\n"
          ]
        }
      ]
    },
    {
      "cell_type": "markdown",
      "source": [
        "Ejercicio calcular el sueldo de un trabajador"
      ],
      "metadata": {
        "id": "040cJEtOhpG3"
      }
    },
    {
      "cell_type": "markdown",
      "source": [
        "TAREA(Miercoles)\n",
        "\n",
        "\n",
        "1.   Convertir grados farenheit a celsius\n",
        "2.   Convertir [Farenheit y celsius] a kelvin\n",
        "\n"
      ],
      "metadata": {
        "id": "q1uqY5tHirh1"
      }
    },
    {
      "cell_type": "markdown",
      "source": [
        "Convertir grados farenheit a celsius"
      ],
      "metadata": {
        "id": "4Zw7kIJFchvM"
      }
    },
    {
      "cell_type": "code",
      "source": [
        "def convertir_fc(f): #farenheit a celcius\n",
        "  return (f-32) * 5/9\n",
        "\n",
        "f = float(input(\"Farenheit: \"))\n",
        "print(\"Grados Celcius: \", convertir_fc(f),\"°c\")\n"
      ],
      "metadata": {
        "id": "_nJmwL9Nl3-s",
        "colab": {
          "base_uri": "https://localhost:8080/"
        },
        "outputId": "4b51b354-25cf-47c6-f694-03598b3dd5f5"
      },
      "execution_count": null,
      "outputs": [
        {
          "output_type": "stream",
          "name": "stdout",
          "text": [
            "Farenheit: 90\n",
            "Grados Celcius:  32.22222222222222 °c\n"
          ]
        }
      ]
    },
    {
      "cell_type": "markdown",
      "source": [
        "Convertir [Farenheit y celsius] a kelvin"
      ],
      "metadata": {
        "id": "4tJ2853wex4z"
      }
    },
    {
      "cell_type": "code",
      "source": [
        "def convertir_fk(f): #farenheit a kelvin\n",
        "  return (f + 459.67)/1.8\n",
        "\n",
        "f = float(input(\"Farenheit: \"))\n",
        "print(\"Grados Kelvin convertidos: \", convertir_fk(f),\"°k\")\n",
        "print(\"\")\n",
        "\n",
        "def convertir_ck(c): #celcius a kelvin\n",
        "  return (c+273.15)\n",
        "\n",
        "c = float(input(\"Celcius: \"))\n",
        "print(\"Grados Kelvin: \", convertir_ck(c),\"°k\")"
      ],
      "metadata": {
        "colab": {
          "base_uri": "https://localhost:8080/"
        },
        "id": "5FZsub3je0VS",
        "outputId": "695667f7-4f3a-4e62-f6db-a6bf6f0496a9"
      },
      "execution_count": null,
      "outputs": [
        {
          "output_type": "stream",
          "name": "stdout",
          "text": [
            "Farenheit: 40\n",
            "Grados Kelvin convertidos:  277.59444444444443 °k\n",
            "\n",
            "Celcius: 44\n",
            "Grados Kelvin:  317.15 °k\n"
          ]
        }
      ]
    },
    {
      "cell_type": "markdown",
      "source": [
        "Clase 24-07-2024\n",
        "Ejercicio: elevar un nmero al cuadrado\n"
      ],
      "metadata": {
        "id": "V0PBq_1p4LNH"
      }
    },
    {
      "cell_type": "code",
      "source": [
        "def elevarCuadrado(base, exponente):\n",
        "  return base**exponente\n",
        "\n",
        "#exponente=int(input(\"Exponente \"))\n",
        "\n",
        "base = int(input(\"Numero \"))\n",
        "print(\"Elevado: \",elevarCuadrado(base,3))"
      ],
      "metadata": {
        "colab": {
          "base_uri": "https://localhost:8080/"
        },
        "id": "eoYudy7C6Ke0",
        "outputId": "5e83f636-1a73-496e-b1ac-a2df18d20acc"
      },
      "execution_count": null,
      "outputs": [
        {
          "output_type": "stream",
          "name": "stdout",
          "text": [
            "Numero 3\n",
            "Elevado:  27\n"
          ]
        }
      ]
    },
    {
      "cell_type": "markdown",
      "source": [
        "Usando funciones lambda"
      ],
      "metadata": {
        "id": "Gq38HluG8XJY"
      }
    },
    {
      "cell_type": "code",
      "source": [
        "elevarCuadradoLambda = lambda base, exponente : base**exponente\n",
        "valor = int(input(\"Num: \"))\n",
        "print(\"Cuadrado: \", elevarCuadradoLambda(valor,2))"
      ],
      "metadata": {
        "colab": {
          "base_uri": "https://localhost:8080/"
        },
        "id": "HLDf1DKW8Z_A",
        "outputId": "6793f5a8-5f0f-489f-d806-efb9e64f2e66"
      },
      "execution_count": null,
      "outputs": [
        {
          "output_type": "stream",
          "name": "stdout",
          "text": [
            "Num: 3\n",
            "Cuadrado:  9\n"
          ]
        }
      ]
    },
    {
      "cell_type": "markdown",
      "source": [
        "Funcion lambda, con series , listas , matrices"
      ],
      "metadata": {
        "id": "FufhoWqP9oZe"
      }
    },
    {
      "cell_type": "code",
      "source": [
        "serie = [5,4,3,2,6,7]\n",
        "resp = map(lambda x: x**2, serie)\n",
        "print(\"Valores al cuadrado:\",(list(resp)))\n",
        "\n",
        "#resp2= map(elevarCuadrado, serie)\n",
        "#print(list(resp2))"
      ],
      "metadata": {
        "colab": {
          "base_uri": "https://localhost:8080/"
        },
        "id": "-qKcz3GV_kEb",
        "outputId": "ca37bfa3-0d48-454a-86cb-8d4f92f78f67"
      },
      "execution_count": null,
      "outputs": [
        {
          "output_type": "stream",
          "name": "stdout",
          "text": [
            "Valores al cuadrado: [25, 16, 9, 4, 36, 49]\n"
          ]
        }
      ]
    },
    {
      "cell_type": "markdown",
      "source": [
        "Ejercicio: Obtener la raiz cuadrada de una serie de numeros fijos"
      ],
      "metadata": {
        "id": "3kOdgKSFC-bW"
      }
    },
    {
      "cell_type": "code",
      "source": [
        "#from math import sqrt\n",
        "\n",
        "#series = [5,4,3,2,6,7]\n",
        "series = [16,9, 81,144,6,7]\n",
        "resps = map(lambda x:x** 0.5, series)\n",
        "\n",
        "print(list(resps))"
      ],
      "metadata": {
        "colab": {
          "base_uri": "https://localhost:8080/"
        },
        "id": "t_DpF2axA9bp",
        "outputId": "ab4d8159-1227-4fb8-b8dc-45d62f8c2ae1"
      },
      "execution_count": null,
      "outputs": [
        {
          "output_type": "stream",
          "name": "stdout",
          "text": [
            "[4.0, 3.0, 9.0, 12.0, 2.449489742783178, 2.6457513110645907]\n"
          ]
        }
      ]
    },
    {
      "cell_type": "markdown",
      "source": [
        "CLASE VIRTUAL 29-07-24_ LAMBDA"
      ],
      "metadata": {
        "id": "LdWalN1zajeX"
      }
    },
    {
      "cell_type": "markdown",
      "source": [
        "EJERCICIO CON MAP"
      ],
      "metadata": {
        "id": "Um8j7j5yb2iH"
      }
    },
    {
      "cell_type": "code",
      "source": [
        "numeros = [1,2,3,4,5,6,7,8,9]\n",
        "print(list(map(lambda n: n*2, numeros)))"
      ],
      "metadata": {
        "colab": {
          "base_uri": "https://localhost:8080/"
        },
        "id": "mmA0AnylanmX",
        "outputId": "db179564-2555-44b4-ebc9-25bdca6274ee"
      },
      "execution_count": 1,
      "outputs": [
        {
          "output_type": "stream",
          "name": "stdout",
          "text": [
            "[2, 4, 6, 8, 10, 12, 14, 16, 18]\n"
          ]
        }
      ]
    },
    {
      "cell_type": "code",
      "source": [
        "numeros = [1,2,3,4,5,6,7,8,9,10]\n",
        "print(list(map(lambda n: n*3, numeros)))"
      ],
      "metadata": {
        "colab": {
          "base_uri": "https://localhost:8080/"
        },
        "id": "tFtGLw73b4l2",
        "outputId": "8112dfd8-f41c-4de8-a98b-9c27ff031020"
      },
      "execution_count": 2,
      "outputs": [
        {
          "output_type": "stream",
          "name": "stdout",
          "text": [
            "[3, 6, 9, 12, 15, 18, 21, 24, 27, 30]\n"
          ]
        }
      ]
    },
    {
      "cell_type": "code",
      "source": [
        "numeros = [1,2,3,4,5,6,7,8,9,10]\n",
        "ntabla = int(input(\"Tabla: \"))\n",
        "print(list(map(lambda n: n*ntabla, numeros)))"
      ],
      "metadata": {
        "colab": {
          "base_uri": "https://localhost:8080/"
        },
        "id": "dYJDzZdicL-3",
        "outputId": "609ac243-12dc-4361-aa3d-0a7ecfcefc08"
      },
      "execution_count": 4,
      "outputs": [
        {
          "output_type": "stream",
          "name": "stdout",
          "text": [
            "Tabla: 6\n",
            "[6, 12, 18, 24, 30, 36, 42, 48, 54, 60]\n"
          ]
        }
      ]
    },
    {
      "cell_type": "markdown",
      "source": [
        "*FILTER"
      ],
      "metadata": {
        "id": "FT_qI9XJdMge"
      }
    },
    {
      "cell_type": "code",
      "source": [
        "#pares\n",
        "numeros = [1,2,3,4,5,6,7,8,9,10]\n",
        "print(list(filter(lambda n: n%2==0, numeros)))"
      ],
      "metadata": {
        "colab": {
          "base_uri": "https://localhost:8080/"
        },
        "id": "9KM9j4MvdNs2",
        "outputId": "6a172f8b-c10f-48c7-a8c8-414c593a3318"
      },
      "execution_count": 5,
      "outputs": [
        {
          "output_type": "stream",
          "name": "stdout",
          "text": [
            "[2, 4, 6, 8, 10]\n"
          ]
        }
      ]
    },
    {
      "cell_type": "code",
      "source": [
        "#inpares\n",
        "numeros = [1,2,3,4,5,6,7,8,9,10]\n",
        "print(list(filter(lambda n: n%2!=0, numeros)))"
      ],
      "metadata": {
        "colab": {
          "base_uri": "https://localhost:8080/"
        },
        "id": "Jm1h-u-fdapp",
        "outputId": "0a0eba2b-32f3-4fd7-bea6-5fb9d349e51d"
      },
      "execution_count": 6,
      "outputs": [
        {
          "output_type": "stream",
          "name": "stdout",
          "text": [
            "[1, 3, 5, 7, 9]\n"
          ]
        }
      ]
    },
    {
      "cell_type": "markdown",
      "source": [],
      "metadata": {
        "id": "HNQb1iuXd0Sl"
      }
    },
    {
      "cell_type": "code",
      "source": [
        "notas = [8,2,3,9,10,1,3,6,9,0,1,10,9]\n",
        "print(\"Aprobados: \", list(filter(lambda n: n>=6, notas)))"
      ],
      "metadata": {
        "colab": {
          "base_uri": "https://localhost:8080/"
        },
        "id": "dGgRWEpbd0lt",
        "outputId": "865d08b5-9bb7-4e7f-da3f-799fed8cf992"
      },
      "execution_count": 7,
      "outputs": [
        {
          "output_type": "stream",
          "name": "stdout",
          "text": [
            "Aprobados:  [8, 9, 10, 6, 9, 10, 9]\n"
          ]
        }
      ]
    },
    {
      "cell_type": "code",
      "source": [
        "notas = [8,2,3,9,10,1,3,6,9,0,1,10,9]\n",
        "print(\"Reprobados: \", list(filter(lambda n: n<6, notas)))"
      ],
      "metadata": {
        "colab": {
          "base_uri": "https://localhost:8080/"
        },
        "id": "G_RUyB6LeIdf",
        "outputId": "312755bc-96fb-45c8-ddbc-70544f875396"
      },
      "execution_count": 8,
      "outputs": [
        {
          "output_type": "stream",
          "name": "stdout",
          "text": [
            "Reprobados:  [2, 3, 1, 3, 0, 1]\n"
          ]
        }
      ]
    },
    {
      "cell_type": "markdown",
      "source": [
        "*REDUCE"
      ],
      "metadata": {
        "id": "4u4BnDzfePn2"
      }
    },
    {
      "cell_type": "code",
      "source": [
        "from functools import reduce\n",
        "numeros = [7,8,9,10]\n",
        "print(\"Suma: \", reduce(lambda n, acum: n+acum, numeros))"
      ],
      "metadata": {
        "colab": {
          "base_uri": "https://localhost:8080/"
        },
        "id": "B3_K6Fb5eRan",
        "outputId": "e96579a8-821c-435a-e3ca-6c8ac74b9ac6"
      },
      "execution_count": 12,
      "outputs": [
        {
          "output_type": "stream",
          "name": "stdout",
          "text": [
            "Suma:  34\n"
          ]
        }
      ]
    },
    {
      "cell_type": "markdown",
      "source": [
        "TUPLAS"
      ],
      "metadata": {
        "id": "VOsKPkc3g3aM"
      }
    },
    {
      "cell_type": "code",
      "source": [
        "numeros = (5,8,7,9,5,4,7)\n",
        "print(\"Tupla: \", numeros, \",Primer: \", numeros[0], \",Ultimo: \", numeros[-1], \", Rango: 2-6 \", numeros[2:6])\n",
        "print(numeros.count(5))"
      ],
      "metadata": {
        "colab": {
          "base_uri": "https://localhost:8080/"
        },
        "id": "Qoqn4iXUgTd0",
        "outputId": "685a43c5-a334-4865-9b91-0bab3b7b36f8"
      },
      "execution_count": 14,
      "outputs": [
        {
          "output_type": "stream",
          "name": "stdout",
          "text": [
            "Tupla:  (5, 8, 7, 9, 5, 4, 7) ,Primer:  5 ,Ultimo:  7 , Rango: 2-6  (7, 9, 5, 4)\n",
            "2\n"
          ]
        }
      ]
    },
    {
      "cell_type": "code",
      "source": [
        "semana = (\"domingo\", \"lunes\", \"martes\", \"miercoles\", \"jueves\", \"viernes\", \"sabado\")\n",
        "print(\"Primer dia: \",semana[0], \"; Cuantas veces repite domingo: \",semana.count(\"domingo\"), \"; dias de la seman: \", len(semana))\n",
        ""
      ],
      "metadata": {
        "id": "esewmEQNqnE4"
      },
      "execution_count": null,
      "outputs": []
    },
    {
      "cell_type": "code",
      "source": [
        "#day datetime\n",
        "import datetime\n",
        "hoy = datetime.date.today()\n",
        "dia = hoy.day\n",
        "mes = hoy.month\n",
        "year = hoy.year\n",
        "dia_semana = hoy.isoweekday()\n",
        "\n",
        "semana = (\"domingo\",\"lunes\",\"martes\",\"miercoles\",\"jueves\", \"viernes\", \"sabado\")\n",
        "meses = (\"enero\", \"febrero\", \"marzo\", \"abril\", \"mayo\", \"junio\", \"julio\", \"agosto\", \"septiembre\", \"octubre\", \"noviembre\", \"diciembre\")\n",
        "\n",
        "print(\"Fecha: \", semana[dia_semana], dia, \" de \", meses[mes], \" del \", year)"
      ],
      "metadata": {
        "colab": {
          "base_uri": "https://localhost:8080/"
        },
        "id": "18n1uilbqn04",
        "outputId": "70c94538-d936-4f59-c718-ddab305be79f"
      },
      "execution_count": 15,
      "outputs": [
        {
          "output_type": "stream",
          "name": "stdout",
          "text": [
            "Fecha:  lunes 29  de  agosto  del  2024\n"
          ]
        }
      ]
    },
    {
      "cell_type": "code",
      "source": [
        "#\n",
        "tuplas = (\"Luis\",\"Juan\")\n",
        "#tuplas[0] = \"Pedro\" #Las tuplas son inmutables, no puede cambiar su valor.\n",
        "print(tuplas)\n",
        "\n",
        "listas = [\"Luis\",\"Juan\"]\n",
        "listas[0] = \"Pedro\" #Las listas son mutables, si puede cambiar su valor.\n",
        "print(listas)\n",
        "\n",
        "('Luis', 'Juan')\n",
        "['Pedro', 'Juan']"
      ],
      "metadata": {
        "colab": {
          "base_uri": "https://localhost:8080/"
        },
        "id": "4fASee2AqtoP",
        "outputId": "b5f8db13-f646-4945-d64c-be57a613372f"
      },
      "execution_count": 16,
      "outputs": [
        {
          "output_type": "stream",
          "name": "stdout",
          "text": [
            "('Luis', 'Juan')\n",
            "['Pedro', 'Juan']\n"
          ]
        },
        {
          "output_type": "execute_result",
          "data": {
            "text/plain": [
              "['Pedro', 'Juan']"
            ]
          },
          "metadata": {},
          "execution_count": 16
        }
      ]
    },
    {
      "cell_type": "code",
      "source": [
        "#LISTA\n",
        "listas = [5,8,7,9,\"Luis\", \"Jonathan\", \"Ramon\"]\n",
        "print(listas, listas[-1])"
      ],
      "metadata": {
        "id": "LkkNrAVsqyon"
      },
      "execution_count": null,
      "outputs": []
    },
    {
      "cell_type": "code",
      "source": [
        "def obtenerNota(nota, eval):\n",
        "  return eval[1]*0.3 + nota\n",
        "\n",
        "matriz = [ [\"Lab1\", 8],[\"Lab2\", 9], [\"Parcial\", 8] ] #8*0.3=2.4 + 9*0.3=2.7 + 8*0.3=2.4\n",
        "reduce(obtenerNota, matriz, 0)"
      ],
      "metadata": {
        "colab": {
          "base_uri": "https://localhost:8080/"
        },
        "id": "9CTOQk7Mq21P",
        "outputId": "1da952a8-8298-4157-ef6a-3ca5d0521ffe"
      },
      "execution_count": 17,
      "outputs": [
        {
          "output_type": "execute_result",
          "data": {
            "text/plain": [
              "7.5"
            ]
          },
          "metadata": {},
          "execution_count": 17
        }
      ]
    }
  ]
}