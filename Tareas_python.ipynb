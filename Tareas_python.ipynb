{
  "nbformat": 4,
  "nbformat_minor": 0,
  "metadata": {
    "colab": {
      "provenance": [],
      "authorship_tag": "ABX9TyMPHcfnv31FjIhr1vTBtya6",
      "include_colab_link": true
    },
    "kernelspec": {
      "name": "python3",
      "display_name": "Python 3"
    },
    "language_info": {
      "name": "python"
    }
  },
  "cells": [
    {
      "cell_type": "markdown",
      "metadata": {
        "id": "view-in-github",
        "colab_type": "text"
      },
      "source": [
        "<a href=\"https://colab.research.google.com/github/RachellRG29/PrograIII_2024_Semi/blob/Tareas/Tareas_python.ipynb\" target=\"_parent\"><img src=\"https://colab.research.google.com/assets/colab-badge.svg\" alt=\"Open In Colab\"/></a>"
      ]
    },
    {
      "cell_type": "markdown",
      "source": [
        "**TAREAS PYTHON**\n",
        "\n",
        "TAREA(Miercoles 24/07/24):\n",
        "Convertir grados farenheit a celsius\n",
        "Convertir [Farenheit y celsius] a kelvin"
      ],
      "metadata": {
        "id": "ej2jrbNgmxP1"
      }
    },
    {
      "cell_type": "markdown",
      "source": [
        "**Convertir grados farenheit a celsius**"
      ],
      "metadata": {
        "id": "F4we-kb-nCDc"
      }
    },
    {
      "cell_type": "code",
      "execution_count": null,
      "metadata": {
        "id": "CTC5PTMTOBRw"
      },
      "outputs": [],
      "source": [
        "def convertir_fc(f): #farenheit a celcius\n",
        "  return (f-32) * 5/9\n",
        "\n",
        "f = float(input(\"Farenheit: \"))\n",
        "print(\"Grados Celcius: \", convertir_fc(f))"
      ]
    },
    {
      "cell_type": "markdown",
      "source": [
        "**Convertir [Farenheit y celsius] a kelvin**"
      ],
      "metadata": {
        "id": "Lq-GSyI-nG5s"
      }
    },
    {
      "cell_type": "code",
      "source": [
        "def convertir_fk(f): #farenheit a kelvin\n",
        "  return (f + 459.67)/1.8\n",
        "\n",
        "f = float(input(\"Farenheit: \"))\n",
        "print(\"Grados Kelvin convertidos: \", convertir_fk(f))\n",
        "print(\"\")\n",
        "\n",
        "def convertir_ck(c): #celcius a kelvin\n",
        "  return (c+273.15)\n",
        "\n",
        "c = float(input(\"Celcius: \"))\n",
        "print(\"Grados Kelvin: \", convertir_ck(c))"
      ],
      "metadata": {
        "id": "-JVbSjBRnJh1"
      },
      "execution_count": null,
      "outputs": []
    }
  ]
}